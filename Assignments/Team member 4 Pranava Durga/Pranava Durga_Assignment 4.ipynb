{
 "cells": [
  {
   "cell_type": "code",
   "execution_count": 1,
   "id": "dff2a6f5",
   "metadata": {},
   "outputs": [],
   "source": [
    "# Download the dataset"
   ]
  },
  {
   "cell_type": "code",
   "execution_count": 3,
   "id": "6f8cfeeb",
   "metadata": {},
   "outputs": [],
   "source": [
    "import numpy as np\n",
    "import pandas as pd\n",
    "import seaborn as sns\n",
    "import matplotlib.pyplot as plt"
   ]
  },
  {
   "cell_type": "code",
   "execution_count": null,
   "id": "feae744d",
   "metadata": {},
   "outputs": [],
   "source": [
    "# Load the dataset into the tool\n"
   ]
  },
  {
   "cell_type": "code",
   "execution_count": 4,
   "id": "d5e01767",
   "metadata": {},
   "outputs": [
    {
     "data": {
      "text/html": [
       "<div>\n",
       "<style scoped>\n",
       "    .dataframe tbody tr th:only-of-type {\n",
       "        vertical-align: middle;\n",
       "    }\n",
       "\n",
       "    .dataframe tbody tr th {\n",
       "        vertical-align: top;\n",
       "    }\n",
       "\n",
       "    .dataframe thead th {\n",
       "        text-align: right;\n",
       "    }\n",
       "</style>\n",
       "<table border=\"1\" class=\"dataframe\">\n",
       "  <thead>\n",
       "    <tr style=\"text-align: right;\">\n",
       "      <th></th>\n",
       "      <th>CustomerID</th>\n",
       "      <th>Gender</th>\n",
       "      <th>Age</th>\n",
       "      <th>Annual Income (k$)</th>\n",
       "      <th>Spending Score (1-100)</th>\n",
       "    </tr>\n",
       "  </thead>\n",
       "  <tbody>\n",
       "    <tr>\n",
       "      <th>0</th>\n",
       "      <td>1</td>\n",
       "      <td>Male</td>\n",
       "      <td>19</td>\n",
       "      <td>15</td>\n",
       "      <td>39</td>\n",
       "    </tr>\n",
       "    <tr>\n",
       "      <th>1</th>\n",
       "      <td>2</td>\n",
       "      <td>Male</td>\n",
       "      <td>21</td>\n",
       "      <td>15</td>\n",
       "      <td>81</td>\n",
       "    </tr>\n",
       "    <tr>\n",
       "      <th>2</th>\n",
       "      <td>3</td>\n",
       "      <td>Female</td>\n",
       "      <td>20</td>\n",
       "      <td>16</td>\n",
       "      <td>6</td>\n",
       "    </tr>\n",
       "    <tr>\n",
       "      <th>3</th>\n",
       "      <td>4</td>\n",
       "      <td>Female</td>\n",
       "      <td>23</td>\n",
       "      <td>16</td>\n",
       "      <td>77</td>\n",
       "    </tr>\n",
       "    <tr>\n",
       "      <th>4</th>\n",
       "      <td>5</td>\n",
       "      <td>Female</td>\n",
       "      <td>31</td>\n",
       "      <td>17</td>\n",
       "      <td>40</td>\n",
       "    </tr>\n",
       "    <tr>\n",
       "      <th>...</th>\n",
       "      <td>...</td>\n",
       "      <td>...</td>\n",
       "      <td>...</td>\n",
       "      <td>...</td>\n",
       "      <td>...</td>\n",
       "    </tr>\n",
       "    <tr>\n",
       "      <th>195</th>\n",
       "      <td>196</td>\n",
       "      <td>Female</td>\n",
       "      <td>35</td>\n",
       "      <td>120</td>\n",
       "      <td>79</td>\n",
       "    </tr>\n",
       "    <tr>\n",
       "      <th>196</th>\n",
       "      <td>197</td>\n",
       "      <td>Female</td>\n",
       "      <td>45</td>\n",
       "      <td>126</td>\n",
       "      <td>28</td>\n",
       "    </tr>\n",
       "    <tr>\n",
       "      <th>197</th>\n",
       "      <td>198</td>\n",
       "      <td>Male</td>\n",
       "      <td>32</td>\n",
       "      <td>126</td>\n",
       "      <td>74</td>\n",
       "    </tr>\n",
       "    <tr>\n",
       "      <th>198</th>\n",
       "      <td>199</td>\n",
       "      <td>Male</td>\n",
       "      <td>32</td>\n",
       "      <td>137</td>\n",
       "      <td>18</td>\n",
       "    </tr>\n",
       "    <tr>\n",
       "      <th>199</th>\n",
       "      <td>200</td>\n",
       "      <td>Male</td>\n",
       "      <td>30</td>\n",
       "      <td>137</td>\n",
       "      <td>83</td>\n",
       "    </tr>\n",
       "  </tbody>\n",
       "</table>\n",
       "<p>200 rows × 5 columns</p>\n",
       "</div>"
      ],
      "text/plain": [
       "     CustomerID  Gender  Age  Annual Income (k$)  Spending Score (1-100)\n",
       "0             1    Male   19                  15                      39\n",
       "1             2    Male   21                  15                      81\n",
       "2             3  Female   20                  16                       6\n",
       "3             4  Female   23                  16                      77\n",
       "4             5  Female   31                  17                      40\n",
       "..          ...     ...  ...                 ...                     ...\n",
       "195         196  Female   35                 120                      79\n",
       "196         197  Female   45                 126                      28\n",
       "197         198    Male   32                 126                      74\n",
       "198         199    Male   32                 137                      18\n",
       "199         200    Male   30                 137                      83\n",
       "\n",
       "[200 rows x 5 columns]"
      ]
     },
     "execution_count": 4,
     "metadata": {},
     "output_type": "execute_result"
    }
   ],
   "source": [
    "data=pd.read_csv(r\"C:\\Users\\Pavithra\\Downloads\\Mall_Customers.csv\")\n",
    "data"
   ]
  },
  {
   "cell_type": "code",
   "execution_count": null,
   "id": "4fd4eeb4",
   "metadata": {},
   "outputs": [],
   "source": [
    "Perform the below Visualizations\n",
    "#univariate Analysis"
   ]
  },
  {
   "cell_type": "code",
   "execution_count": 5,
   "id": "2bc5774c",
   "metadata": {},
   "outputs": [],
   "source": [
    "import warnings\n",
    "warnings.filterwarnings('ignore')"
   ]
  },
  {
   "cell_type": "code",
   "execution_count": 6,
   "id": "d44d2e69",
   "metadata": {},
   "outputs": [
    {
     "data": {
      "text/plain": [
       "<AxesSubplot:xlabel='Age', ylabel='Density'>"
      ]
     },
     "execution_count": 6,
     "metadata": {},
     "output_type": "execute_result"
    },
    {
     "data": {
      "image/png": "[encoded data removed]",
      "text/plain": [
       "<Figure size 432x288 with 1 Axes>"
      ]
     },
     "metadata": {
      "needs_background": "light"
     },
     "output_type": "display_data"
    }
   ],
   "source": [
    "sns.distplot(data.Age)"
   ]
  },
  {
   "cell_type": "code",
   "execution_count": 7,
   "id": "4194efbc",
   "metadata": {},
   "outputs": [
    {
     "data": {
      "text/plain": [
       "<AxesSubplot:xlabel='Age', ylabel='Density'>"
      ]
     },
     "execution_count": 7,
     "metadata": {},
     "output_type": "execute_result"
    },
    {
     "data": {
      "image/png": "[encoded data removed]",
      "text/plain": [
       "<Figure size 432x288 with 1 Axes>"
      ]
     },
     "metadata": {
      "needs_background": "light"
     },
     "output_type": "display_data"
    }
   ],
   "source": [
    "sns.distplot(data.Age)"
   ]
  },
  {
   "cell_type": "code",
   "execution_count": 8,
   "id": "34a7c30a",
   "metadata": {},
   "outputs": [
    {
     "data": {
      "text/plain": [
       "<seaborn.axisgrid.PairGrid at 0x209a4ec6e20>"
      ]
     },
     "execution_count": 8,
     "metadata": {},
     "output_type": "execute_result"
    },
    {
     "data": {
      "image/png": "[encoded data removed]",
      "text/plain": [
       "<Figure size 720x720 with 20 Axes>"
      ]
     },
     "metadata": {
      "needs_background": "light"
     },
     "output_type": "display_data"
    }
   ],
   "source": [
    "sns.pairplot(data)"
   ]
  },
  {
   "cell_type": "code",
   "execution_count": null,
   "id": "3b8bcc8b",
   "metadata": {},
   "outputs": [],
   "source": [
    "# Bivariate Analysis"
   ]
  },
  {
   "cell_type": "code",
   "execution_count": 9,
   "id": "d31def67",
   "metadata": {},
   "outputs": [
    {
     "data": {
      "text/plain": [
       "<AxesSubplot:xlabel='Age', ylabel='Gender'>"
      ]
     },
     "execution_count": 9,
     "metadata": {},
     "output_type": "execute_result"
    },
    {
     "data": {
      "image/png": "[encoded data removed]",
      "text/plain": [
       "<Figure size 432x288 with 1 Axes>"
      ]
     },
     "metadata": {
      "needs_background": "light"
     },
     "output_type": "display_data"
    }
   ],
   "source": [
    "sns.scatterplot(x=data.Age,y=data.Gender)"
   ]
  },
  {
   "cell_type": "code",
   "execution_count": 10,
   "id": "d522b5ec",
   "metadata": {},
   "outputs": [
    {
     "data": {
      "text/plain": [
       "<seaborn.axisgrid.JointGrid at 0x209a4eb76a0>"
      ]
     },
     "execution_count": 10,
     "metadata": {},
     "output_type": "execute_result"
    },
    {
     "data": {
      "image/png": "[encoded data removed]",
      "text/plain": [
       "<Figure size 432x432 with 3 Axes>"
      ]
     },
     "metadata": {
      "needs_background": "light"
     },
     "output_type": "display_data"
    }
   ],
   "source": [
    "sns.jointplot(x=data.Age,y=data.Gender)"
   ]
  },
  {
   "cell_type": "code",
   "execution_count": 11,
   "id": "fb70bf03",
   "metadata": {},
   "outputs": [
    {
     "data": {
      "text/plain": [
       "<AxesSubplot:xlabel='Age', ylabel='Gender'>"
      ]
     },
     "execution_count": 11,
     "metadata": {},
     "output_type": "execute_result"
    },
    {
     "data": {
      "image/png": "[encoded data removed]",
      "text/plain": [
       "<Figure size 432x288 with 1 Axes>"
      ]
     },
     "metadata": {
      "needs_background": "light"
     },
     "output_type": "display_data"
    }
   ],
   "source": [
    "sns.barplot(x=data.Age,y=data.Gender)"
   ]
  },
  {
   "cell_type": "code",
   "execution_count": null,
   "id": "3ec15478",
   "metadata": {},
   "outputs": [],
   "source": [
    "# Perform the descriptive statistics on the dataset"
   ]
  },
  {
   "cell_type": "code",
   "execution_count": 12,
   "id": "c2e2b533",
   "metadata": {},
   "outputs": [
    {
     "data": {
      "text/html": [
       "<div>\n",
       "<style scoped>\n",
       "    .dataframe tbody tr th:only-of-type {\n",
       "        vertical-align: middle;\n",
       "    }\n",
       "\n",
       "    .dataframe tbody tr th {\n",
       "        vertical-align: top;\n",
       "    }\n",
       "\n",
       "    .dataframe thead th {\n",
       "        text-align: right;\n",
       "    }\n",
       "</style>\n",
       "<table border=\"1\" class=\"dataframe\">\n",
       "  <thead>\n",
       "    <tr style=\"text-align: right;\">\n",
       "      <th></th>\n",
       "      <th>CustomerID</th>\n",
       "      <th>Gender</th>\n",
       "      <th>Age</th>\n",
       "      <th>Annual Income (k$)</th>\n",
       "      <th>Spending Score (1-100)</th>\n",
       "    </tr>\n",
       "  </thead>\n",
       "  <tbody>\n",
       "    <tr>\n",
       "      <th>0</th>\n",
       "      <td>1</td>\n",
       "      <td>Male</td>\n",
       "      <td>19</td>\n",
       "      <td>15</td>\n",
       "      <td>39</td>\n",
       "    </tr>\n",
       "    <tr>\n",
       "      <th>1</th>\n",
       "      <td>2</td>\n",
       "      <td>Male</td>\n",
       "      <td>21</td>\n",
       "      <td>15</td>\n",
       "      <td>81</td>\n",
       "    </tr>\n",
       "    <tr>\n",
       "      <th>2</th>\n",
       "      <td>3</td>\n",
       "      <td>Female</td>\n",
       "      <td>20</td>\n",
       "      <td>16</td>\n",
       "      <td>6</td>\n",
       "    </tr>\n",
       "    <tr>\n",
       "      <th>3</th>\n",
       "      <td>4</td>\n",
       "      <td>Female</td>\n",
       "      <td>23</td>\n",
       "      <td>16</td>\n",
       "      <td>77</td>\n",
       "    </tr>\n",
       "    <tr>\n",
       "      <th>4</th>\n",
       "      <td>5</td>\n",
       "      <td>Female</td>\n",
       "      <td>31</td>\n",
       "      <td>17</td>\n",
       "      <td>40</td>\n",
       "    </tr>\n",
       "  </tbody>\n",
       "</table>\n",
       "</div>"
      ],
      "text/plain": [
       "   CustomerID  Gender  Age  Annual Income (k$)  Spending Score (1-100)\n",
       "0           1    Male   19                  15                      39\n",
       "1           2    Male   21                  15                      81\n",
       "2           3  Female   20                  16                       6\n",
       "3           4  Female   23                  16                      77\n",
       "4           5  Female   31                  17                      40"
      ]
     },
     "execution_count": 12,
     "metadata": {},
     "output_type": "execute_result"
    }
   ],
   "source": [
    "data.head()"
   ]
  },
  {
   "cell_type": "code",
   "execution_count": 13,
   "id": "b298b17f",
   "metadata": {},
   "outputs": [
    {
     "name": "stdout",
     "output_type": "stream",
     "text": [
      "<class 'pandas.core.frame.DataFrame'>\n",
      "RangeIndex: 200 entries, 0 to 199\n",
      "Data columns (total 5 columns):\n",
      " #   Column                  Non-Null Count  Dtype \n",
      "---  ------                  --------------  ----- \n",
      " 0   CustomerID              200 non-null    int64 \n",
      " 1   Gender                  200 non-null    object\n",
      " 2   Age                     200 non-null    int64 \n",
      " 3   Annual Income (k$)      200 non-null    int64 \n",
      " 4   Spending Score (1-100)  200 non-null    int64 \n",
      "dtypes: int64(4), object(1)\n",
      "memory usage: 7.9+ KB\n"
     ]
    }
   ],
   "source": [
    "data.info()"
   ]
  },
  {
   "cell_type": "code",
   "execution_count": 14,
   "id": "9dd9f73b",
   "metadata": {},
   "outputs": [
    {
     "data": {
      "text/plain": [
       "CustomerID                100.50\n",
       "Age                        38.85\n",
       "Annual Income (k$)         60.56\n",
       "Spending Score (1-100)     50.20\n",
       "dtype: float64"
      ]
     },
     "execution_count": 14,
     "metadata": {},
     "output_type": "execute_result"
    }
   ],
   "source": [
    "data.mean()"
   ]
  },
  {
   "cell_type": "code",
   "execution_count": 15,
   "id": "c9211ee2",
   "metadata": {},
   "outputs": [
    {
     "data": {
      "text/plain": [
       "(200, 5)"
      ]
     },
     "execution_count": 15,
     "metadata": {},
     "output_type": "execute_result"
    }
   ],
   "source": [
    "data.shape"
   ]
  },
  {
   "cell_type": "code",
   "execution_count": 16,
   "id": "23713dd6",
   "metadata": {},
   "outputs": [
    {
     "data": {
      "text/html": [
       "<div>\n",
       "<style scoped>\n",
       "    .dataframe tbody tr th:only-of-type {\n",
       "        vertical-align: middle;\n",
       "    }\n",
       "\n",
       "    .dataframe tbody tr th {\n",
       "        vertical-align: top;\n",
       "    }\n",
       "\n",
       "    .dataframe thead th {\n",
       "        text-align: right;\n",
       "    }\n",
       "</style>\n",
       "<table border=\"1\" class=\"dataframe\">\n",
       "  <thead>\n",
       "    <tr style=\"text-align: right;\">\n",
       "      <th></th>\n",
       "      <th>CustomerID</th>\n",
       "      <th>Gender</th>\n",
       "      <th>Age</th>\n",
       "      <th>Annual Income (k$)</th>\n",
       "      <th>Spending Score (1-100)</th>\n",
       "    </tr>\n",
       "  </thead>\n",
       "  <tbody>\n",
       "    <tr>\n",
       "      <th>0</th>\n",
       "      <td>1</td>\n",
       "      <td>Female</td>\n",
       "      <td>32.0</td>\n",
       "      <td>54.0</td>\n",
       "      <td>42.0</td>\n",
       "    </tr>\n",
       "    <tr>\n",
       "      <th>1</th>\n",
       "      <td>2</td>\n",
       "      <td>NaN</td>\n",
       "      <td>NaN</td>\n",
       "      <td>78.0</td>\n",
       "      <td>NaN</td>\n",
       "    </tr>\n",
       "    <tr>\n",
       "      <th>2</th>\n",
       "      <td>3</td>\n",
       "      <td>NaN</td>\n",
       "      <td>NaN</td>\n",
       "      <td>NaN</td>\n",
       "      <td>NaN</td>\n",
       "    </tr>\n",
       "    <tr>\n",
       "      <th>3</th>\n",
       "      <td>4</td>\n",
       "      <td>NaN</td>\n",
       "      <td>NaN</td>\n",
       "      <td>NaN</td>\n",
       "      <td>NaN</td>\n",
       "    </tr>\n",
       "    <tr>\n",
       "      <th>4</th>\n",
       "      <td>5</td>\n",
       "      <td>NaN</td>\n",
       "      <td>NaN</td>\n",
       "      <td>NaN</td>\n",
       "      <td>NaN</td>\n",
       "    </tr>\n",
       "    <tr>\n",
       "      <th>...</th>\n",
       "      <td>...</td>\n",
       "      <td>...</td>\n",
       "      <td>...</td>\n",
       "      <td>...</td>\n",
       "      <td>...</td>\n",
       "    </tr>\n",
       "    <tr>\n",
       "      <th>195</th>\n",
       "      <td>196</td>\n",
       "      <td>NaN</td>\n",
       "      <td>NaN</td>\n",
       "      <td>NaN</td>\n",
       "      <td>NaN</td>\n",
       "    </tr>\n",
       "    <tr>\n",
       "      <th>196</th>\n",
       "      <td>197</td>\n",
       "      <td>NaN</td>\n",
       "      <td>NaN</td>\n",
       "      <td>NaN</td>\n",
       "      <td>NaN</td>\n",
       "    </tr>\n",
       "    <tr>\n",
       "      <th>197</th>\n",
       "      <td>198</td>\n",
       "      <td>NaN</td>\n",
       "      <td>NaN</td>\n",
       "      <td>NaN</td>\n",
       "      <td>NaN</td>\n",
       "    </tr>\n",
       "    <tr>\n",
       "      <th>198</th>\n",
       "      <td>199</td>\n",
       "      <td>NaN</td>\n",
       "      <td>NaN</td>\n",
       "      <td>NaN</td>\n",
       "      <td>NaN</td>\n",
       "    </tr>\n",
       "    <tr>\n",
       "      <th>199</th>\n",
       "      <td>200</td>\n",
       "      <td>NaN</td>\n",
       "      <td>NaN</td>\n",
       "      <td>NaN</td>\n",
       "      <td>NaN</td>\n",
       "    </tr>\n",
       "  </tbody>\n",
       "</table>\n",
       "<p>200 rows × 5 columns</p>\n",
       "</div>"
      ],
      "text/plain": [
       "     CustomerID  Gender   Age  Annual Income (k$)  Spending Score (1-100)\n",
       "0             1  Female  32.0                54.0                    42.0\n",
       "1             2     NaN   NaN                78.0                     NaN\n",
       "2             3     NaN   NaN                 NaN                     NaN\n",
       "3             4     NaN   NaN                 NaN                     NaN\n",
       "4             5     NaN   NaN                 NaN                     NaN\n",
       "..          ...     ...   ...                 ...                     ...\n",
       "195         196     NaN   NaN                 NaN                     NaN\n",
       "196         197     NaN   NaN                 NaN                     NaN\n",
       "197         198     NaN   NaN                 NaN                     NaN\n",
       "198         199     NaN   NaN                 NaN                     NaN\n",
       "199         200     NaN   NaN                 NaN                     NaN\n",
       "\n",
       "[200 rows x 5 columns]"
      ]
     },
     "execution_count": 16,
     "metadata": {},
     "output_type": "execute_result"
    }
   ],
   "source": [
    "data.mode()"
   ]
  },
  {
   "cell_type": "code",
   "execution_count": 17,
   "id": "e8c9eaca",
   "metadata": {},
   "outputs": [
    {
     "data": {
      "text/plain": [
       "CustomerID                100.5\n",
       "Age                        36.0\n",
       "Annual Income (k$)         61.5\n",
       "Spending Score (1-100)     50.0\n",
       "dtype: float64"
      ]
     },
     "execution_count": 17,
     "metadata": {},
     "output_type": "execute_result"
    }
   ],
   "source": [
    "data.median()"
   ]
  },
  {
   "cell_type": "code",
   "execution_count": 18,
   "id": "1e16ec0d",
   "metadata": {},
   "outputs": [
    {
     "data": {
      "text/plain": [
       "CustomerID                0.000000\n",
       "Age                       0.485569\n",
       "Annual Income (k$)        0.321843\n",
       "Spending Score (1-100)   -0.047220\n",
       "dtype: float64"
      ]
     },
     "execution_count": 18,
     "metadata": {},
     "output_type": "execute_result"
    }
   ],
   "source": [
    "data.skew()"
   ]
  },
  {
   "cell_type": "code",
   "execution_count": 19,
   "id": "77b13691",
   "metadata": {},
   "outputs": [
    {
     "data": {
      "text/plain": [
       "CustomerID               -1.200000\n",
       "Age                      -0.671573\n",
       "Annual Income (k$)       -0.098487\n",
       "Spending Score (1-100)   -0.826629\n",
       "dtype: float64"
      ]
     },
     "execution_count": 19,
     "metadata": {},
     "output_type": "execute_result"
    }
   ],
   "source": [
    "data.kurtosis()"
   ]
  },
  {
   "cell_type": "code",
   "execution_count": 20,
   "id": "57dc32c3",
   "metadata": {},
   "outputs": [
    {
     "data": {
      "text/plain": [
       "CustomerID                57.879185\n",
       "Age                       13.969007\n",
       "Annual Income (k$)        26.264721\n",
       "Spending Score (1-100)    25.823522\n",
       "dtype: float64"
      ]
     },
     "execution_count": 20,
     "metadata": {},
     "output_type": "execute_result"
    }
   ],
   "source": [
    "data.std()"
   ]
  },
  {
   "cell_type": "code",
   "execution_count": null,
   "id": "09befae8",
   "metadata": {},
   "outputs": [],
   "source": [
    "# Check the missing values and deal with them"
   ]
  },
  {
   "cell_type": "code",
   "execution_count": 21,
   "id": "3bf79164",
   "metadata": {},
   "outputs": [
    {
     "data": {
      "text/plain": [
       "CustomerID                False\n",
       "Gender                    False\n",
       "Age                       False\n",
       "Annual Income (k$)        False\n",
       "Spending Score (1-100)    False\n",
       "dtype: bool"
      ]
     },
     "execution_count": 21,
     "metadata": {},
     "output_type": "execute_result"
    }
   ],
   "source": [
    "data.isnull().any()"
   ]
  },
  {
   "cell_type": "code",
   "execution_count": 22,
   "id": "3e97087f",
   "metadata": {},
   "outputs": [
    {
     "data": {
      "text/plain": [
       "CustomerID                0\n",
       "Gender                    0\n",
       "Age                       0\n",
       "Annual Income (k$)        0\n",
       "Spending Score (1-100)    0\n",
       "dtype: int64"
      ]
     },
     "execution_count": 22,
     "metadata": {},
     "output_type": "execute_result"
    }
   ],
   "source": [
    "data.isnull().sum()"
   ]
  },
  {
   "cell_type": "code",
   "execution_count": 23,
   "id": "79d7c148",
   "metadata": {},
   "outputs": [
    {
     "data": {
      "text/html": [
       "<div>\n",
       "<style scoped>\n",
       "    .dataframe tbody tr th:only-of-type {\n",
       "        vertical-align: middle;\n",
       "    }\n",
       "\n",
       "    .dataframe tbody tr th {\n",
       "        vertical-align: top;\n",
       "    }\n",
       "\n",
       "    .dataframe thead th {\n",
       "        text-align: right;\n",
       "    }\n",
       "</style>\n",
       "<table border=\"1\" class=\"dataframe\">\n",
       "  <thead>\n",
       "    <tr style=\"text-align: right;\">\n",
       "      <th></th>\n",
       "      <th>CustomerID</th>\n",
       "      <th>Gender</th>\n",
       "      <th>Age</th>\n",
       "      <th>Annual Income (k$)</th>\n",
       "      <th>Spending Score (1-100)</th>\n",
       "    </tr>\n",
       "  </thead>\n",
       "  <tbody>\n",
       "    <tr>\n",
       "      <th>0</th>\n",
       "      <td>1</td>\n",
       "      <td>Male</td>\n",
       "      <td>19</td>\n",
       "      <td>15</td>\n",
       "      <td>39</td>\n",
       "    </tr>\n",
       "    <tr>\n",
       "      <th>1</th>\n",
       "      <td>2</td>\n",
       "      <td>Male</td>\n",
       "      <td>21</td>\n",
       "      <td>15</td>\n",
       "      <td>81</td>\n",
       "    </tr>\n",
       "    <tr>\n",
       "      <th>2</th>\n",
       "      <td>3</td>\n",
       "      <td>Female</td>\n",
       "      <td>20</td>\n",
       "      <td>16</td>\n",
       "      <td>6</td>\n",
       "    </tr>\n",
       "    <tr>\n",
       "      <th>3</th>\n",
       "      <td>4</td>\n",
       "      <td>Female</td>\n",
       "      <td>23</td>\n",
       "      <td>16</td>\n",
       "      <td>77</td>\n",
       "    </tr>\n",
       "    <tr>\n",
       "      <th>4</th>\n",
       "      <td>5</td>\n",
       "      <td>Female</td>\n",
       "      <td>31</td>\n",
       "      <td>17</td>\n",
       "      <td>40</td>\n",
       "    </tr>\n",
       "    <tr>\n",
       "      <th>...</th>\n",
       "      <td>...</td>\n",
       "      <td>...</td>\n",
       "      <td>...</td>\n",
       "      <td>...</td>\n",
       "      <td>...</td>\n",
       "    </tr>\n",
       "    <tr>\n",
       "      <th>195</th>\n",
       "      <td>196</td>\n",
       "      <td>Female</td>\n",
       "      <td>35</td>\n",
       "      <td>120</td>\n",
       "      <td>79</td>\n",
       "    </tr>\n",
       "    <tr>\n",
       "      <th>196</th>\n",
       "      <td>197</td>\n",
       "      <td>Female</td>\n",
       "      <td>45</td>\n",
       "      <td>126</td>\n",
       "      <td>28</td>\n",
       "    </tr>\n",
       "    <tr>\n",
       "      <th>197</th>\n",
       "      <td>198</td>\n",
       "      <td>Male</td>\n",
       "      <td>32</td>\n",
       "      <td>126</td>\n",
       "      <td>74</td>\n",
       "    </tr>\n",
       "    <tr>\n",
       "      <th>198</th>\n",
       "      <td>199</td>\n",
       "      <td>Male</td>\n",
       "      <td>32</td>\n",
       "      <td>137</td>\n",
       "      <td>18</td>\n",
       "    </tr>\n",
       "    <tr>\n",
       "      <th>199</th>\n",
       "      <td>200</td>\n",
       "      <td>Male</td>\n",
       "      <td>30</td>\n",
       "      <td>137</td>\n",
       "      <td>83</td>\n",
       "    </tr>\n",
       "  </tbody>\n",
       "</table>\n",
       "<p>200 rows × 5 columns</p>\n",
       "</div>"
      ],
      "text/plain": [
       "     CustomerID  Gender  Age  Annual Income (k$)  Spending Score (1-100)\n",
       "0             1    Male   19                  15                      39\n",
       "1             2    Male   21                  15                      81\n",
       "2             3  Female   20                  16                       6\n",
       "3             4  Female   23                  16                      77\n",
       "4             5  Female   31                  17                      40\n",
       "..          ...     ...  ...                 ...                     ...\n",
       "195         196  Female   35                 120                      79\n",
       "196         197  Female   45                 126                      28\n",
       "197         198    Male   32                 126                      74\n",
       "198         199    Male   32                 137                      18\n",
       "199         200    Male   30                 137                      83\n",
       "\n",
       "[200 rows x 5 columns]"
      ]
     },
     "execution_count": 23,
     "metadata": {},
     "output_type": "execute_result"
    }
   ],
   "source": [
    "data.dropna()"
   ]
  },
  {
   "cell_type": "code",
   "execution_count": 26,
   "id": "80535e4b",
   "metadata": {},
   "outputs": [],
   "source": [
    "# Find the outliers and replace them outliers"
   ]
  },
  {
   "cell_type": "code",
   "execution_count": 27,
   "id": "b1c49023",
   "metadata": {},
   "outputs": [
    {
     "data": {
      "text/html": [
       "<div>\n",
       "<style scoped>\n",
       "    .dataframe tbody tr th:only-of-type {\n",
       "        vertical-align: middle;\n",
       "    }\n",
       "\n",
       "    .dataframe tbody tr th {\n",
       "        vertical-align: top;\n",
       "    }\n",
       "\n",
       "    .dataframe thead th {\n",
       "        text-align: right;\n",
       "    }\n",
       "</style>\n",
       "<table border=\"1\" class=\"dataframe\">\n",
       "  <thead>\n",
       "    <tr style=\"text-align: right;\">\n",
       "      <th></th>\n",
       "      <th>CustomerID</th>\n",
       "      <th>Age</th>\n",
       "      <th>Annual Income (k$)</th>\n",
       "      <th>Spending Score (1-100)</th>\n",
       "    </tr>\n",
       "  </thead>\n",
       "  <tbody>\n",
       "    <tr>\n",
       "      <th>0.25</th>\n",
       "      <td>50.75</td>\n",
       "      <td>28.75</td>\n",
       "      <td>41.5</td>\n",
       "      <td>34.75</td>\n",
       "    </tr>\n",
       "    <tr>\n",
       "      <th>0.75</th>\n",
       "      <td>150.25</td>\n",
       "      <td>49.00</td>\n",
       "      <td>78.0</td>\n",
       "      <td>73.00</td>\n",
       "    </tr>\n",
       "  </tbody>\n",
       "</table>\n",
       "</div>"
      ],
      "text/plain": [
       "      CustomerID    Age  Annual Income (k$)  Spending Score (1-100)\n",
       "0.25       50.75  28.75                41.5                   34.75\n",
       "0.75      150.25  49.00                78.0                   73.00"
      ]
     },
     "execution_count": 27,
     "metadata": {},
     "output_type": "execute_result"
    }
   ],
   "source": [
    "qnt=data.quantile(q=[0.25,0.75])\n",
    "qnt"
   ]
  },
  {
   "cell_type": "code",
   "execution_count": null,
   "id": "feef4fff",
   "metadata": {},
   "outputs": [],
   "source": [
    "# check the categorical columns and perform encoding"
   ]
  },
  {
   "cell_type": "code",
   "execution_count": 28,
   "id": "cef8dc05",
   "metadata": {},
   "outputs": [],
   "source": [
    "from sklearn.preprocessing import LabelEncoder"
   ]
  },
  {
   "cell_type": "code",
   "execution_count": 29,
   "id": "ea63dae6",
   "metadata": {},
   "outputs": [],
   "source": [
    "le=LabelEncoder"
   ]
  },
  {
   "cell_type": "code",
   "execution_count": 30,
   "id": "0d865ec0",
   "metadata": {},
   "outputs": [
    {
     "data": {
      "text/html": [
       "<div>\n",
       "<style scoped>\n",
       "    .dataframe tbody tr th:only-of-type {\n",
       "        vertical-align: middle;\n",
       "    }\n",
       "\n",
       "    .dataframe tbody tr th {\n",
       "        vertical-align: top;\n",
       "    }\n",
       "\n",
       "    .dataframe thead th {\n",
       "        text-align: right;\n",
       "    }\n",
       "</style>\n",
       "<table border=\"1\" class=\"dataframe\">\n",
       "  <thead>\n",
       "    <tr style=\"text-align: right;\">\n",
       "      <th></th>\n",
       "      <th>CustomerID</th>\n",
       "      <th>Gender</th>\n",
       "      <th>Age</th>\n",
       "      <th>Annual Income (k$)</th>\n",
       "      <th>Spending Score (1-100)</th>\n",
       "    </tr>\n",
       "  </thead>\n",
       "  <tbody>\n",
       "    <tr>\n",
       "      <th>0</th>\n",
       "      <td>1</td>\n",
       "      <td>1</td>\n",
       "      <td>1</td>\n",
       "      <td>15</td>\n",
       "      <td>39</td>\n",
       "    </tr>\n",
       "    <tr>\n",
       "      <th>1</th>\n",
       "      <td>2</td>\n",
       "      <td>1</td>\n",
       "      <td>3</td>\n",
       "      <td>15</td>\n",
       "      <td>81</td>\n",
       "    </tr>\n",
       "    <tr>\n",
       "      <th>2</th>\n",
       "      <td>3</td>\n",
       "      <td>0</td>\n",
       "      <td>2</td>\n",
       "      <td>16</td>\n",
       "      <td>6</td>\n",
       "    </tr>\n",
       "    <tr>\n",
       "      <th>3</th>\n",
       "      <td>4</td>\n",
       "      <td>0</td>\n",
       "      <td>5</td>\n",
       "      <td>16</td>\n",
       "      <td>77</td>\n",
       "    </tr>\n",
       "    <tr>\n",
       "      <th>4</th>\n",
       "      <td>5</td>\n",
       "      <td>0</td>\n",
       "      <td>13</td>\n",
       "      <td>17</td>\n",
       "      <td>40</td>\n",
       "    </tr>\n",
       "  </tbody>\n",
       "</table>\n",
       "</div>"
      ],
      "text/plain": [
       "   CustomerID  Gender  Age  Annual Income (k$)  Spending Score (1-100)\n",
       "0           1       1    1                  15                      39\n",
       "1           2       1    3                  15                      81\n",
       "2           3       0    2                  16                       6\n",
       "3           4       0    5                  16                      77\n",
       "4           5       0   13                  17                      40"
      ]
     },
     "execution_count": 30,
     "metadata": {},
     "output_type": "execute_result"
    }
   ],
   "source": [
    "from sklearn.preprocessing import LabelEncoder\n",
    "le=LabelEncoder()\n",
    "data[\"Age\"]=le.fit_transform(data['Age'])\n",
    "data[\"Gender\"]=le.fit_transform(data['Gender'])\n",
    "data.head()"
   ]
  },
  {
   "cell_type": "code",
   "execution_count": null,
   "id": "60a052a9",
   "metadata": {},
   "outputs": [],
   "source": [
    "# Split the dataset into dependent and independent variables"
   ]
  },
  {
   "cell_type": "code",
   "execution_count": 31,
   "id": "abf60657",
   "metadata": {},
   "outputs": [
    {
     "data": {
      "text/plain": [
       "array([[  1,   1,   1,  15],\n",
       "       [  2,   1,   3,  15],\n",
       "       [  3,   0,   2,  16],\n",
       "       [  4,   0,   5,  16],\n",
       "       [  5,   0,  13,  17],\n",
       "       [  6,   0,   4,  17],\n",
       "       [  7,   0,  17,  18],\n",
       "       [  8,   0,   5,  18],\n",
       "       [  9,   1,  44,  19],\n",
       "       [ 10,   0,  12,  19],\n",
       "       [ 11,   1,  47,  19],\n",
       "       [ 12,   0,  17,  19],\n",
       "       [ 13,   0,  40,  20],\n",
       "       [ 14,   0,   6,  20],\n",
       "       [ 15,   1,  19,  20],\n",
       "       [ 16,   1,   4,  20],\n",
       "       [ 17,   0,  17,  21],\n",
       "       [ 18,   1,   2,  21],\n",
       "       [ 19,   1,  34,  23],\n",
       "       [ 20,   0,  17,  23],\n",
       "       [ 21,   1,  17,  24],\n",
       "       [ 22,   1,   7,  24],\n",
       "       [ 23,   0,  28,  25],\n",
       "       [ 24,   1,  13,  25],\n",
       "       [ 25,   0,  36,  28],\n",
       "       [ 26,   1,  11,  28],\n",
       "       [ 27,   0,  27,  28],\n",
       "       [ 28,   1,  17,  28],\n",
       "       [ 29,   0,  22,  29],\n",
       "       [ 30,   0,   5,  29],\n",
       "       [ 31,   1,  42,  30],\n",
       "       [ 32,   0,   3,  30],\n",
       "       [ 33,   1,  35,  33],\n",
       "       [ 34,   1,   0,  33],\n",
       "       [ 35,   0,  31,  33],\n",
       "       [ 36,   0,   3,  33],\n",
       "       [ 37,   0,  24,  34],\n",
       "       [ 38,   0,  12,  34],\n",
       "       [ 39,   0,  18,  37],\n",
       "       [ 40,   0,   2,  37],\n",
       "       [ 41,   0,  45,  38],\n",
       "       [ 42,   1,   6,  38],\n",
       "       [ 43,   1,  30,  39],\n",
       "       [ 44,   0,  13,  39],\n",
       "       [ 45,   0,  31,  39],\n",
       "       [ 46,   0,   6,  39],\n",
       "       [ 47,   0,  32,  40],\n",
       "       [ 48,   0,   9,  40],\n",
       "       [ 49,   0,  11,  40],\n",
       "       [ 50,   0,  13,  40],\n",
       "       [ 51,   0,  31,  42],\n",
       "       [ 52,   1,  15,  42],\n",
       "       [ 53,   0,  13,  43],\n",
       "       [ 54,   1,  41,  43],\n",
       "       [ 55,   0,  32,  43],\n",
       "       [ 56,   1,  29,  43],\n",
       "       [ 57,   0,  33,  44],\n",
       "       [ 58,   1,  49,  44],\n",
       "       [ 59,   0,   9,  46],\n",
       "       [ 60,   1,  35,  46],\n",
       "       [ 61,   1,  50,  46],\n",
       "       [ 62,   1,   1,  46],\n",
       "       [ 63,   0,  47,  47],\n",
       "       [ 64,   0,  36,  47],\n",
       "       [ 65,   1,  43,  48],\n",
       "       [ 66,   1,   0,  48],\n",
       "       [ 67,   0,  25,  48],\n",
       "       [ 68,   0,  48,  48],\n",
       "       [ 69,   1,   1,  48],\n",
       "       [ 70,   0,  14,  48],\n",
       "       [ 71,   1,  50,  49],\n",
       "       [ 72,   0,  29,  49],\n",
       "       [ 73,   0,  42,  50],\n",
       "       [ 74,   0,  42,  50],\n",
       "       [ 75,   1,  41,  54],\n",
       "       [ 76,   1,   8,  54],\n",
       "       [ 77,   0,  27,  54],\n",
       "       [ 78,   1,  22,  54],\n",
       "       [ 79,   0,   5,  54],\n",
       "       [ 80,   0,  31,  54],\n",
       "       [ 81,   1,  39,  54],\n",
       "       [ 82,   1,  20,  54],\n",
       "       [ 83,   1,  47,  54],\n",
       "       [ 84,   0,  28,  54],\n",
       "       [ 85,   0,   3,  54],\n",
       "       [ 86,   1,  30,  54],\n",
       "       [ 87,   0,  37,  57],\n",
       "       [ 88,   0,   4,  57],\n",
       "       [ 89,   0,  16,  58],\n",
       "       [ 90,   0,  32,  58],\n",
       "       [ 91,   0,  48,  59],\n",
       "       [ 92,   1,   0,  59],\n",
       "       [ 93,   1,  30,  60],\n",
       "       [ 94,   0,  22,  60],\n",
       "       [ 95,   0,  14,  60],\n",
       "       [ 96,   1,   6,  60],\n",
       "       [ 97,   0,  29,  60],\n",
       "       [ 98,   0,   9,  60],\n",
       "       [ 99,   1,  30,  61],\n",
       "       [100,   1,   2,  61],\n",
       "       [101,   0,   5,  62],\n",
       "       [102,   0,  31,  62],\n",
       "       [103,   1,  47,  62],\n",
       "       [104,   1,   8,  62],\n",
       "       [105,   1,  31,  62],\n",
       "       [106,   0,   3,  62],\n",
       "       [107,   0,  46,  63],\n",
       "       [108,   1,  36,  63],\n",
       "       [109,   1,  48,  63],\n",
       "       [110,   1,  46,  63],\n",
       "       [111,   1,  45,  63],\n",
       "       [112,   0,   1,  63],\n",
       "       [113,   0,  20,  64],\n",
       "       [114,   1,   1,  64],\n",
       "       [115,   0,   0,  65],\n",
       "       [116,   0,   1,  65],\n",
       "       [117,   0,  43,  65],\n",
       "       [118,   0,  31,  65],\n",
       "       [119,   0,  33,  67],\n",
       "       [120,   0,  32,  67],\n",
       "       [121,   1,   9,  67],\n",
       "       [122,   0,  20,  67],\n",
       "       [123,   0,  22,  69],\n",
       "       [124,   1,  21,  69],\n",
       "       [125,   0,   5,  70],\n",
       "       [126,   0,  13,  70],\n",
       "       [127,   1,  25,  71],\n",
       "       [128,   1,  22,  71],\n",
       "       [129,   1,  41,  71],\n",
       "       [130,   1,  20,  71],\n",
       "       [131,   1,  29,  71],\n",
       "       [132,   1,  21,  71],\n",
       "       [133,   0,   7,  72],\n",
       "       [134,   0,  13,  72],\n",
       "       [135,   1,   2,  73],\n",
       "       [136,   0,  11,  73],\n",
       "       [137,   0,  26,  73],\n",
       "       [138,   1,  14,  73],\n",
       "       [139,   1,   1,  74],\n",
       "       [140,   0,  17,  74],\n",
       "       [141,   0,  39,  75],\n",
       "       [142,   1,  14,  75],\n",
       "       [143,   0,  10,  76],\n",
       "       [144,   0,  14,  76],\n",
       "       [145,   1,   7,  77],\n",
       "       [146,   1,  10,  77],\n",
       "       [147,   1,  30,  77],\n",
       "       [148,   0,  14,  77],\n",
       "       [149,   0,  16,  78],\n",
       "       [150,   1,  16,  78],\n",
       "       [151,   1,  25,  78],\n",
       "       [152,   1,  21,  78],\n",
       "       [153,   0,  26,  78],\n",
       "       [154,   0,  20,  78],\n",
       "       [155,   0,  29,  78],\n",
       "       [156,   0,   9,  78],\n",
       "       [157,   1,  19,  78],\n",
       "       [158,   0,  12,  78],\n",
       "       [159,   1,  16,  78],\n",
       "       [160,   0,  12,  78],\n",
       "       [161,   0,  38,  79],\n",
       "       [162,   0,  11,  79],\n",
       "       [163,   1,   1,  81],\n",
       "       [164,   0,  13,  81],\n",
       "       [165,   1,  32,  85],\n",
       "       [166,   0,  18,  85],\n",
       "       [167,   1,  24,  86],\n",
       "       [168,   0,  15,  86],\n",
       "       [169,   0,  18,  87],\n",
       "       [170,   1,  14,  87],\n",
       "       [171,   1,  22,  87],\n",
       "       [172,   1,  10,  87],\n",
       "       [173,   1,  18,  87],\n",
       "       [174,   1,  18,  87],\n",
       "       [175,   0,  34,  88],\n",
       "       [176,   0,  12,  88],\n",
       "       [177,   1,  40,  88],\n",
       "       [178,   1,   9,  88],\n",
       "       [179,   1,  41,  93],\n",
       "       [180,   1,  17,  93],\n",
       "       [181,   0,  19,  97],\n",
       "       [182,   0,  14,  97],\n",
       "       [183,   1,  28,  98],\n",
       "       [184,   0,  11,  98],\n",
       "       [185,   0,  23,  99],\n",
       "       [186,   1,  12,  99],\n",
       "       [187,   0,  36, 101],\n",
       "       [188,   1,  10, 101],\n",
       "       [189,   0,  23, 103],\n",
       "       [190,   0,  18, 103],\n",
       "       [191,   0,  16, 103],\n",
       "       [192,   0,  14, 103],\n",
       "       [193,   1,  15, 113],\n",
       "       [194,   0,  20, 113],\n",
       "       [195,   0,  29, 120],\n",
       "       [196,   0,  17, 120],\n",
       "       [197,   0,  27, 126],\n",
       "       [198,   1,  14, 126],\n",
       "       [199,   1,  14, 137],\n",
       "       [200,   1,  12, 137]], dtype=int64)"
      ]
     },
     "execution_count": 31,
     "metadata": {},
     "output_type": "execute_result"
    }
   ],
   "source": [
    "x=data.iloc[:,:-1].values\n",
    "y=data.iloc[:,:-1].values\n",
    "x"
   ]
  },
  {
   "cell_type": "code",
   "execution_count": 32,
   "id": "70316123",
   "metadata": {},
   "outputs": [
    {
     "name": "stdout",
     "output_type": "stream",
     "text": [
      "(200, 4) (200, 4)\n"
     ]
    }
   ],
   "source": [
    "print(x.shape,y.shape)"
   ]
  },
  {
   "cell_type": "code",
   "execution_count": 33,
   "id": "564e54e9",
   "metadata": {},
   "outputs": [],
   "source": [
    "# split the data into training and testing"
   ]
  },
  {
   "cell_type": "code",
   "execution_count": 34,
   "id": "a2ae1527",
   "metadata": {},
   "outputs": [],
   "source": [
    "from sklearn.model_selection import train_test_split\n"
   ]
  },
  {
   "cell_type": "code",
   "execution_count": 35,
   "id": "3b51c1bd",
   "metadata": {},
   "outputs": [],
   "source": [
    "\n",
    "x_train, x_test, y_train, y_test= train_test_split(x,y,test_size= 0.33, random_state= 42)\n"
   ]
  },
  {
   "cell_type": "code",
   "execution_count": 36,
   "id": "f303d5c2",
   "metadata": {},
   "outputs": [
    {
     "data": {
      "text/plain": [
       "(134, 4)"
      ]
     },
     "execution_count": 36,
     "metadata": {},
     "output_type": "execute_result"
    }
   ],
   "source": [
    "\n",
    "x_train.shape"
   ]
  },
  {
   "cell_type": "code",
   "execution_count": 37,
   "id": "2ed63bef",
   "metadata": {},
   "outputs": [
    {
     "data": {
      "text/plain": [
       "(66, 4)"
      ]
     },
     "execution_count": 37,
     "metadata": {},
     "output_type": "execute_result"
    }
   ],
   "source": [
    "x_test.shape"
   ]
  },
  {
   "cell_type": "code",
   "execution_count": 38,
   "id": "38899f6e",
   "metadata": {},
   "outputs": [],
   "source": [
    "#scaling the data"
   ]
  },
  {
   "cell_type": "code",
   "execution_count": 39,
   "id": "d7c5b2d2",
   "metadata": {},
   "outputs": [],
   "source": [
    "from sklearn.preprocessing import scale\n"
   ]
  },
  {
   "cell_type": "code",
   "execution_count": 40,
   "id": "51db84f1",
   "metadata": {},
   "outputs": [
    {
     "data": {
      "text/plain": [
       "array([[-1.7234121 ,  1.12815215, -1.44683356, -1.73899919],\n",
       "       [-1.70609137,  1.12815215, -1.29979763, -1.73899919],\n",
       "       [-1.68877065, -0.88640526, -1.37331559, -1.70082976],\n",
       "       [-1.67144992, -0.88640526, -1.15276169, -1.70082976],\n",
       "       [-1.6541292 , -0.88640526, -0.56461797, -1.66266033],\n",
       "       [-1.63680847, -0.88640526, -1.22627966, -1.66266033],\n",
       "       [-1.61948775, -0.88640526, -0.27054611, -1.62449091],\n",
       "       [-1.60216702, -0.88640526, -1.15276169, -1.62449091],\n",
       "       [-1.5848463 ,  1.12815215,  1.71443895, -1.58632148],\n",
       "       [-1.56752558, -0.88640526, -0.63813594, -1.58632148],\n",
       "       [-1.55020485,  1.12815215,  1.93499284, -1.58632148],\n",
       "       [-1.53288413, -0.88640526, -0.27054611, -1.58632148],\n",
       "       [-1.5155634 , -0.88640526,  1.42036709, -1.54815205],\n",
       "       [-1.49824268, -0.88640526, -1.07924373, -1.54815205],\n",
       "       [-1.48092195,  1.12815215, -0.12351018, -1.54815205],\n",
       "       [-1.46360123,  1.12815215, -1.22627966, -1.54815205],\n",
       "       [-1.4462805 , -0.88640526, -0.27054611, -1.50998262],\n",
       "       [-1.42895978,  1.12815215, -1.37331559, -1.50998262],\n",
       "       [-1.41163905,  1.12815215,  0.9792593 , -1.43364376],\n",
       "       [-1.39431833, -0.88640526, -0.27054611, -1.43364376],\n",
       "       [-1.3769976 ,  1.12815215, -0.27054611, -1.39547433],\n",
       "       [-1.35967688,  1.12815215, -1.00572576, -1.39547433],\n",
       "       [-1.34235616, -0.88640526,  0.53815151, -1.3573049 ],\n",
       "       [-1.32503543,  1.12815215, -0.56461797, -1.3573049 ],\n",
       "       [-1.30771471, -0.88640526,  1.12629523, -1.24279661],\n",
       "       [-1.29039398,  1.12815215, -0.7116539 , -1.24279661],\n",
       "       [-1.27307326, -0.88640526,  0.46463354, -1.24279661],\n",
       "       [-1.25575253,  1.12815215, -0.27054611, -1.24279661],\n",
       "       [-1.23843181, -0.88640526,  0.09704371, -1.20462718],\n",
       "       [-1.22111108, -0.88640526, -1.15276169, -1.20462718],\n",
       "       [-1.20379036,  1.12815215,  1.56740302, -1.16645776],\n",
       "       [-1.18646963, -0.88640526, -1.29979763, -1.16645776],\n",
       "       [-1.16914891,  1.12815215,  1.05277726, -1.05194947],\n",
       "       [-1.15182818,  1.12815215, -1.52035152, -1.05194947],\n",
       "       [-1.13450746, -0.88640526,  0.7587054 , -1.05194947],\n",
       "       [-1.11718674, -0.88640526, -1.29979763, -1.05194947],\n",
       "       [-1.09986601, -0.88640526,  0.24407964, -1.01378004],\n",
       "       [-1.08254529, -0.88640526, -0.63813594, -1.01378004],\n",
       "       [-1.06522456, -0.88640526, -0.19702815, -0.89927175],\n",
       "       [-1.04790384, -0.88640526, -1.37331559, -0.89927175],\n",
       "       [-1.03058311, -0.88640526,  1.78795691, -0.86110232],\n",
       "       [-1.01326239,  1.12815215, -1.07924373, -0.86110232],\n",
       "       [-0.99594166,  1.12815215,  0.68518744, -0.82293289],\n",
       "       [-0.97862094, -0.88640526, -0.56461797, -0.82293289],\n",
       "       [-0.96130021, -0.88640526,  0.7587054 , -0.82293289],\n",
       "       [-0.94397949, -0.88640526, -1.07924373, -0.82293289],\n",
       "       [-0.92665877, -0.88640526,  0.83222337, -0.78476346],\n",
       "       [-0.90933804, -0.88640526, -0.85868983, -0.78476346],\n",
       "       [-0.89201732, -0.88640526, -0.7116539 , -0.78476346],\n",
       "       [-0.87469659, -0.88640526, -0.56461797, -0.78476346],\n",
       "       [-0.85737587, -0.88640526,  0.7587054 , -0.70842461],\n",
       "       [-0.84005514,  1.12815215, -0.41758204, -0.70842461],\n",
       "       [-0.82273442, -0.88640526, -0.56461797, -0.67025518],\n",
       "       [-0.80541369,  1.12815215,  1.49388505, -0.67025518],\n",
       "       [-0.78809297, -0.88640526,  0.83222337, -0.67025518],\n",
       "       [-0.77077224,  1.12815215,  0.61166947, -0.67025518],\n",
       "       [-0.75345152, -0.88640526,  0.90574133, -0.63208575],\n",
       "       [-0.73613079,  1.12815215,  2.08202878, -0.63208575],\n",
       "       [-0.71881007, -0.88640526, -0.85868983, -0.55574689],\n",
       "       [-0.70148935,  1.12815215,  1.05277726, -0.55574689],\n",
       "       [-0.68416862,  1.12815215,  2.15554674, -0.55574689],\n",
       "       [-0.6668479 ,  1.12815215, -1.44683356, -0.55574689],\n",
       "       [-0.64952717, -0.88640526,  1.93499284, -0.51757746],\n",
       "       [-0.63220645, -0.88640526,  1.12629523, -0.51757746],\n",
       "       [-0.61488572,  1.12815215,  1.64092098, -0.47940803],\n",
       "       [-0.597565  ,  1.12815215, -1.52035152, -0.47940803],\n",
       "       [-0.58024427, -0.88640526,  0.31759761, -0.47940803],\n",
       "       [-0.56292355, -0.88640526,  2.00851081, -0.47940803],\n",
       "       [-0.54560282,  1.12815215, -1.44683356, -0.47940803],\n",
       "       [-0.5282821 , -0.88640526, -0.49110001, -0.47940803],\n",
       "       [-0.51096138,  1.12815215,  2.15554674, -0.4412386 ],\n",
       "       [-0.49364065, -0.88640526,  0.61166947, -0.4412386 ],\n",
       "       [-0.47631993, -0.88640526,  1.56740302, -0.40306917],\n",
       "       [-0.4589992 , -0.88640526,  1.56740302, -0.40306917],\n",
       "       [-0.44167848,  1.12815215,  1.49388505, -0.25039146],\n",
       "       [-0.42435775,  1.12815215, -0.9322078 , -0.25039146],\n",
       "       [-0.40703703, -0.88640526,  0.46463354, -0.25039146],\n",
       "       [-0.3897163 ,  1.12815215,  0.09704371, -0.25039146],\n",
       "       [-0.37239558, -0.88640526, -1.15276169, -0.25039146],\n",
       "       [-0.35507485, -0.88640526,  0.7587054 , -0.25039146],\n",
       "       [-0.33775413,  1.12815215,  1.34684912, -0.25039146],\n",
       "       [-0.3204334 ,  1.12815215, -0.04999222, -0.25039146],\n",
       "       [-0.30311268,  1.12815215,  1.93499284, -0.25039146],\n",
       "       [-0.28579196, -0.88640526,  0.53815151, -0.25039146],\n",
       "       [-0.26847123, -0.88640526, -1.29979763, -0.25039146],\n",
       "       [-0.25115051,  1.12815215,  0.68518744, -0.25039146],\n",
       "       [-0.23382978, -0.88640526,  1.19981319, -0.13588317],\n",
       "       [-0.21650906, -0.88640526, -1.22627966, -0.13588317],\n",
       "       [-0.19918833, -0.88640526, -0.34406408, -0.09771374],\n",
       "       [-0.18186761, -0.88640526,  0.83222337, -0.09771374],\n",
       "       [-0.16454688, -0.88640526,  2.00851081, -0.05954431],\n",
       "       [-0.14722616,  1.12815215, -1.52035152, -0.05954431],\n",
       "       [-0.12990543,  1.12815215,  0.68518744, -0.02137488],\n",
       "       [-0.11258471, -0.88640526,  0.09704371, -0.02137488],\n",
       "       [-0.09526399, -0.88640526, -0.49110001, -0.02137488],\n",
       "       [-0.07794326,  1.12815215, -1.07924373, -0.02137488],\n",
       "       [-0.06062254, -0.88640526,  0.61166947, -0.02137488],\n",
       "       [-0.04330181, -0.88640526, -0.85868983, -0.02137488],\n",
       "       [-0.02598109,  1.12815215,  0.68518744,  0.01679455],\n",
       "       [-0.00866036,  1.12815215, -1.37331559,  0.01679455],\n",
       "       [ 0.00866036, -0.88640526, -1.15276169,  0.05496398],\n",
       "       [ 0.02598109, -0.88640526,  0.7587054 ,  0.05496398],\n",
       "       [ 0.04330181,  1.12815215,  1.93499284,  0.05496398],\n",
       "       [ 0.06062254,  1.12815215, -0.9322078 ,  0.05496398],\n",
       "       [ 0.07794326,  1.12815215,  0.7587054 ,  0.05496398],\n",
       "       [ 0.09526399, -0.88640526, -1.29979763,  0.05496398],\n",
       "       [ 0.11258471, -0.88640526,  1.86147488,  0.09313341],\n",
       "       [ 0.12990543,  1.12815215,  1.12629523,  0.09313341],\n",
       "       [ 0.14722616,  1.12815215,  2.00851081,  0.09313341],\n",
       "       [ 0.16454688,  1.12815215,  1.86147488,  0.09313341],\n",
       "       [ 0.18186761,  1.12815215,  1.78795691,  0.09313341],\n",
       "       [ 0.19918833, -0.88640526, -1.44683356,  0.09313341],\n",
       "       [ 0.21650906, -0.88640526, -0.04999222,  0.13130284],\n",
       "       [ 0.23382978,  1.12815215, -1.44683356,  0.13130284],\n",
       "       [ 0.25115051, -0.88640526, -1.52035152,  0.16947227],\n",
       "       [ 0.26847123, -0.88640526, -1.44683356,  0.16947227],\n",
       "       [ 0.28579196, -0.88640526,  1.64092098,  0.16947227],\n",
       "       [ 0.30311268, -0.88640526,  0.7587054 ,  0.16947227],\n",
       "       [ 0.3204334 , -0.88640526,  0.90574133,  0.24581112],\n",
       "       [ 0.33775413, -0.88640526,  0.83222337,  0.24581112],\n",
       "       [ 0.35507485,  1.12815215, -0.85868983,  0.24581112],\n",
       "       [ 0.37239558, -0.88640526, -0.04999222,  0.24581112],\n",
       "       [ 0.3897163 , -0.88640526,  0.09704371,  0.32214998],\n",
       "       [ 0.40703703,  1.12815215,  0.02352575,  0.32214998],\n",
       "       [ 0.42435775, -0.88640526, -1.15276169,  0.36031941],\n",
       "       [ 0.44167848, -0.88640526, -0.56461797,  0.36031941],\n",
       "       [ 0.4589992 ,  1.12815215,  0.31759761,  0.39848884],\n",
       "       [ 0.47631993,  1.12815215,  0.09704371,  0.39848884],\n",
       "       [ 0.49364065,  1.12815215,  1.49388505,  0.39848884],\n",
       "       [ 0.51096138,  1.12815215, -0.04999222,  0.39848884],\n",
       "       [ 0.5282821 ,  1.12815215,  0.61166947,  0.39848884],\n",
       "       [ 0.54560282,  1.12815215,  0.02352575,  0.39848884],\n",
       "       [ 0.56292355, -0.88640526, -1.00572576,  0.43665827],\n",
       "       [ 0.58024427, -0.88640526, -0.56461797,  0.43665827],\n",
       "       [ 0.597565  ,  1.12815215, -1.37331559,  0.4748277 ],\n",
       "       [ 0.61488572, -0.88640526, -0.7116539 ,  0.4748277 ],\n",
       "       [ 0.63220645, -0.88640526,  0.39111557,  0.4748277 ],\n",
       "       [ 0.64952717,  1.12815215, -0.49110001,  0.4748277 ],\n",
       "       [ 0.6668479 ,  1.12815215, -1.44683356,  0.51299713],\n",
       "       [ 0.68416862, -0.88640526, -0.27054611,  0.51299713],\n",
       "       [ 0.70148935, -0.88640526,  1.34684912,  0.55116656],\n",
       "       [ 0.71881007,  1.12815215, -0.49110001,  0.55116656],\n",
       "       [ 0.73613079, -0.88640526, -0.78517187,  0.58933599],\n",
       "       [ 0.75345152, -0.88640526, -0.49110001,  0.58933599],\n",
       "       [ 0.77077224,  1.12815215, -1.00572576,  0.62750542],\n",
       "       [ 0.78809297,  1.12815215, -0.78517187,  0.62750542],\n",
       "       [ 0.80541369,  1.12815215,  0.68518744,  0.62750542],\n",
       "       [ 0.82273442, -0.88640526, -0.49110001,  0.62750542],\n",
       "       [ 0.84005514, -0.88640526, -0.34406408,  0.66567484],\n",
       "       [ 0.85737587,  1.12815215, -0.34406408,  0.66567484],\n",
       "       [ 0.87469659,  1.12815215,  0.31759761,  0.66567484],\n",
       "       [ 0.89201732,  1.12815215,  0.02352575,  0.66567484],\n",
       "       [ 0.90933804, -0.88640526,  0.39111557,  0.66567484],\n",
       "       [ 0.92665877, -0.88640526, -0.04999222,  0.66567484],\n",
       "       [ 0.94397949, -0.88640526,  0.61166947,  0.66567484],\n",
       "       [ 0.96130021, -0.88640526, -0.85868983,  0.66567484],\n",
       "       [ 0.97862094,  1.12815215, -0.12351018,  0.66567484],\n",
       "       [ 0.99594166, -0.88640526, -0.63813594,  0.66567484],\n",
       "       [ 1.01326239,  1.12815215, -0.34406408,  0.66567484],\n",
       "       [ 1.03058311, -0.88640526, -0.63813594,  0.66567484],\n",
       "       [ 1.04790384, -0.88640526,  1.27333116,  0.70384427],\n",
       "       [ 1.06522456, -0.88640526, -0.7116539 ,  0.70384427],\n",
       "       [ 1.08254529,  1.12815215, -1.44683356,  0.78018313],\n",
       "       [ 1.09986601, -0.88640526, -0.56461797,  0.78018313],\n",
       "       [ 1.11718674,  1.12815215,  0.83222337,  0.93286085],\n",
       "       [ 1.13450746, -0.88640526, -0.19702815,  0.93286085],\n",
       "       [ 1.15182818,  1.12815215,  0.24407964,  0.97103028],\n",
       "       [ 1.16914891, -0.88640526, -0.41758204,  0.97103028],\n",
       "       [ 1.18646963, -0.88640526, -0.19702815,  1.00919971],\n",
       "       [ 1.20379036,  1.12815215, -0.49110001,  1.00919971],\n",
       "       [ 1.22111108,  1.12815215,  0.09704371,  1.00919971],\n",
       "       [ 1.23843181,  1.12815215, -0.78517187,  1.00919971],\n",
       "       [ 1.25575253,  1.12815215, -0.19702815,  1.00919971],\n",
       "       [ 1.27307326,  1.12815215, -0.19702815,  1.00919971],\n",
       "       [ 1.29039398, -0.88640526,  0.9792593 ,  1.04736914],\n",
       "       [ 1.30771471, -0.88640526, -0.63813594,  1.04736914],\n",
       "       [ 1.32503543,  1.12815215,  1.42036709,  1.04736914],\n",
       "       [ 1.34235616,  1.12815215, -0.85868983,  1.04736914],\n",
       "       [ 1.35967688,  1.12815215,  1.49388505,  1.23821628],\n",
       "       [ 1.3769976 ,  1.12815215, -0.27054611,  1.23821628],\n",
       "       [ 1.39431833, -0.88640526, -0.12351018,  1.390894  ],\n",
       "       [ 1.41163905, -0.88640526, -0.49110001,  1.390894  ],\n",
       "       [ 1.42895978,  1.12815215,  0.53815151,  1.42906343],\n",
       "       [ 1.4462805 , -0.88640526, -0.7116539 ,  1.42906343],\n",
       "       [ 1.46360123, -0.88640526,  0.17056168,  1.46723286],\n",
       "       [ 1.48092195,  1.12815215, -0.63813594,  1.46723286],\n",
       "       [ 1.49824268, -0.88640526,  1.12629523,  1.54357172],\n",
       "       [ 1.5155634 ,  1.12815215, -0.78517187,  1.54357172],\n",
       "       [ 1.53288413, -0.88640526,  0.17056168,  1.61991057],\n",
       "       [ 1.55020485, -0.88640526, -0.19702815,  1.61991057],\n",
       "       [ 1.56752558, -0.88640526, -0.34406408,  1.61991057],\n",
       "       [ 1.5848463 , -0.88640526, -0.49110001,  1.61991057],\n",
       "       [ 1.60216702,  1.12815215, -0.41758204,  2.00160487],\n",
       "       [ 1.61948775, -0.88640526, -0.04999222,  2.00160487],\n",
       "       [ 1.63680847, -0.88640526,  0.61166947,  2.26879087],\n",
       "       [ 1.6541292 , -0.88640526, -0.27054611,  2.26879087],\n",
       "       [ 1.67144992, -0.88640526,  0.46463354,  2.49780745],\n",
       "       [ 1.68877065,  1.12815215, -0.49110001,  2.49780745],\n",
       "       [ 1.70609137,  1.12815215, -0.49110001,  2.91767117],\n",
       "       [ 1.7234121 ,  1.12815215, -0.63813594,  2.91767117]])"
      ]
     },
     "execution_count": 40,
     "metadata": {},
     "output_type": "execute_result"
    }
   ],
   "source": [
    "x=scale(x)\n",
    "x"
   ]
  },
  {
   "cell_type": "code",
   "execution_count": 41,
   "id": "c62f3935",
   "metadata": {},
   "outputs": [],
   "source": [
    "#Build the model"
   ]
  },
  {
   "cell_type": "code",
   "execution_count": 42,
   "id": "ea82c3ca",
   "metadata": {},
   "outputs": [],
   "source": [
    "from sklearn.linear_model import LinearRegression"
   ]
  },
  {
   "cell_type": "code",
   "execution_count": 43,
   "id": "4983baab",
   "metadata": {},
   "outputs": [
    {
     "data": {
      "text/plain": [
       "LinearRegression()"
      ]
     },
     "execution_count": 43,
     "metadata": {},
     "output_type": "execute_result"
    }
   ],
   "source": [
    "regressor=LinearRegression()\n",
    "\n",
    "regressor.fit(x_train,y_train)"
   ]
  },
  {
   "cell_type": "code",
   "execution_count": 44,
   "id": "91fa98b9",
   "metadata": {},
   "outputs": [],
   "source": [
    "from sklearn.tree import DecisionTreeClassifier"
   ]
  },
  {
   "cell_type": "code",
   "execution_count": 45,
   "id": "d9e77936",
   "metadata": {},
   "outputs": [
    {
     "data": {
      "text/plain": [
       "DecisionTreeClassifier()"
      ]
     },
     "execution_count": 45,
     "metadata": {},
     "output_type": "execute_result"
    }
   ],
   "source": [
    "model=DecisionTreeClassifier()\n",
    "model.fit(x_train,y_train)"
   ]
  },
  {
   "cell_type": "code",
   "execution_count": null,
   "id": "4b442b4e",
   "metadata": {},
   "outputs": [],
   "source": [
    "#Train the model"
   ]
  },
  {
   "cell_type": "code",
   "execution_count": 46,
   "id": "1dd11325",
   "metadata": {},
   "outputs": [],
   "source": [
    "from sklearn.multioutput import MultiOutputClassifier"
   ]
  },
  {
   "cell_type": "code",
   "execution_count": 47,
   "id": "55d931e9",
   "metadata": {},
   "outputs": [],
   "source": [
    "from sklearn.neighbors import KNeighborsClassifier"
   ]
  },
  {
   "cell_type": "code",
   "execution_count": 48,
   "id": "75487f60",
   "metadata": {},
   "outputs": [],
   "source": [
    "knn=KNeighborsClassifier(n_neighbors=5)\n"
   ]
  },
  {
   "cell_type": "code",
   "execution_count": 49,
   "id": "49f5663a",
   "metadata": {},
   "outputs": [
    {
     "data": {
      "text/plain": [
       "KNeighborsClassifier()"
      ]
     },
     "execution_count": 49,
     "metadata": {},
     "output_type": "execute_result"
    }
   ],
   "source": [
    "knn.fit(x_train,y_train)\n",
    "knn.fit(x_test,y_test)"
   ]
  },
  {
   "cell_type": "code",
   "execution_count": 50,
   "id": "94bf4b1e",
   "metadata": {},
   "outputs": [],
   "source": [
    "#Measure the performance using evaluation Metrics"
   ]
  },
  {
   "cell_type": "code",
   "execution_count": 51,
   "id": "425edb2e",
   "metadata": {},
   "outputs": [
    {
     "data": {
      "text/plain": [
       "array([[ 79,   0,   3,  60],\n",
       "       [  6,   0,   4,  17],\n",
       "       [ 13,   0,  18,  20],\n",
       "       [149,   0,  16,  78],\n",
       "       [118,   0,  25,  71],\n",
       "       [115,   0,   0,  65],\n",
       "       [ 67,   0,   1,  48],\n",
       "       [166,   1,  18,  87],\n",
       "       [165,   1,  18,  87],\n",
       "       [ 30,   0,   3,  29],\n",
       "       [ 56,   0,  14,  48],\n",
       "       [171,   1,  18,  87],\n",
       "       [166,   1,  18,  87],\n",
       "       [ 69,   0,   1,  54],\n",
       "       [171,   1,  18,  87],\n",
       "       [170,   1,  18,  87],\n",
       "       [ 56,   0,  25,  48],\n",
       "       [144,   0,  16,  78],\n",
       "       [ 68,   0,  31,  54],\n",
       "       [ 66,   1,   0,  48],\n",
       "       [115,   0,   0,  65],\n",
       "       [ 10,   0,  17,  23],\n",
       "       [144,   0,  16,  78],\n",
       "       [ 94,   0,   9,  60],\n",
       "       [ 66,   1,   0,  48],\n",
       "       [ 56,   0,  29,  43],\n",
       "       [ 76,   0,   3,  54],\n",
       "       [ 57,   0,  33,  44],\n",
       "       [123,   0,   5,  70],\n",
       "       [125,   0,   5,  70],\n",
       "       [  6,   0,   4,  17],\n",
       "       [ 13,   0,  17,  23],\n",
       "       [ 39,   0,  14,  48],\n",
       "       [ 69,   0,   1,  54],\n",
       "       [144,   0,  16,  78],\n",
       "       [ 94,   0,  31,  60],\n",
       "       [126,   0,  14,  73],\n",
       "       [133,   0,  14,  73],\n",
       "       [153,   0,  18,  85],\n",
       "       [ 67,   0,  25,  54],\n",
       "       [ 67,   0,  25,  54],\n",
       "       [178,   1,   9,  88],\n",
       "       [ 30,   0,   3,  29],\n",
       "       [ 13,   0,  17,  23],\n",
       "       [118,   0,  13,  65],\n",
       "       [178,   1,   9,  88],\n",
       "       [ 16,   0,   3,  20],\n",
       "       [ 10,   0,  17,  19],\n",
       "       [136,   0,  14,  73],\n",
       "       [ 77,   0,  27,  54],\n",
       "       [ 98,   0,   0,  65],\n",
       "       [166,   1,  18,  87],\n",
       "       [  6,   0,   4,  17],\n",
       "       [118,   0,  13,  65],\n",
       "       [105,   0,  31,  62],\n",
       "       [ 68,   0,  31,  54],\n",
       "       [127,   1,  25,  71],\n",
       "       [ 87,   0,  22,  60],\n",
       "       [166,   1,  18,  87],\n",
       "       [ 87,   0,  22,  60],\n",
       "       [166,   1,  18,  87],\n",
       "       [ 85,   0,   0,  60],\n",
       "       [ 30,   0,   3,  29],\n",
       "       [ 13,   0,  17,  20],\n",
       "       [ 30,   0,   3,  29],\n",
       "       [118,   0,  22,  71]], dtype=int64)"
      ]
     },
     "execution_count": 51,
     "metadata": {},
     "output_type": "execute_result"
    }
   ],
   "source": [
    "pred=knn.predict(x_test)\n",
    "\n",
    "pred"
   ]
  },
  {
   "cell_type": "code",
   "execution_count": null,
   "id": "f3ffc187",
   "metadata": {},
   "outputs": [],
   "source": [
    "# perform any clustering algorithm"
   ]
  },
  {
   "cell_type": "code",
   "execution_count": 57,
   "id": "7bd580cf",
   "metadata": {},
   "outputs": [
    {
     "data": {
      "text/plain": [
       "['__all__',\n",
       " '__builtins__',\n",
       " '__cached__',\n",
       " '__doc__',\n",
       " '__file__',\n",
       " '__loader__',\n",
       " '__name__',\n",
       " '__package__',\n",
       " '__path__',\n",
       " '__spec__',\n",
       " '_base',\n",
       " '_california_housing',\n",
       " '_covtype',\n",
       " '_kddcup99',\n",
       " '_lfw',\n",
       " '_olivetti_faces',\n",
       " '_openml',\n",
       " '_rcv1',\n",
       " '_samples_generator',\n",
       " '_species_distributions',\n",
       " '_svmlight_format_fast',\n",
       " '_svmlight_format_io',\n",
       " '_twenty_newsgroups',\n",
       " 'clear_data_home',\n",
       " 'dump_svmlight_file',\n",
       " 'fetch_20newsgroups',\n",
       " 'fetch_20newsgroups_vectorized',\n",
       " 'fetch_california_housing',\n",
       " 'fetch_covtype',\n",
       " 'fetch_kddcup99',\n",
       " 'fetch_lfw_pairs',\n",
       " 'fetch_lfw_people',\n",
       " 'fetch_olivetti_faces',\n",
       " 'fetch_openml',\n",
       " 'fetch_rcv1',\n",
       " 'fetch_species_distributions',\n",
       " 'get_data_home',\n",
       " 'load_boston',\n",
       " 'load_breast_cancer',\n",
       " 'load_diabetes',\n",
       " 'load_digits',\n",
       " 'load_files',\n",
       " 'load_iris',\n",
       " 'load_linnerud',\n",
       " 'load_sample_image',\n",
       " 'load_sample_images',\n",
       " 'load_svmlight_file',\n",
       " 'load_svmlight_files',\n",
       " 'load_wine',\n",
       " 'make_biclusters',\n",
       " 'make_blobs',\n",
       " 'make_checkerboard',\n",
       " 'make_circles',\n",
       " 'make_classification',\n",
       " 'make_friedman1',\n",
       " 'make_friedman2',\n",
       " 'make_friedman3',\n",
       " 'make_gaussian_quantiles',\n",
       " 'make_hastie_10_2',\n",
       " 'make_low_rank_matrix',\n",
       " 'make_moons',\n",
       " 'make_multilabel_classification',\n",
       " 'make_regression',\n",
       " 'make_s_curve',\n",
       " 'make_sparse_coded_signal',\n",
       " 'make_sparse_spd_matrix',\n",
       " 'make_sparse_uncorrelated',\n",
       " 'make_spd_matrix',\n",
       " 'make_swiss_roll']"
      ]
     },
     "execution_count": 57,
     "metadata": {},
     "output_type": "execute_result"
    }
   ],
   "source": [
    "from sklearn import datasets\n",
    "dir(datasets)"
   ]
  },
  {
   "cell_type": "code",
   "execution_count": 58,
   "id": "c8ae58cc",
   "metadata": {},
   "outputs": [],
   "source": [
    "wine=datasets.load_wine()"
   ]
  },
  {
   "cell_type": "code",
   "execution_count": 59,
   "id": "9541bd99",
   "metadata": {},
   "outputs": [
    {
     "name": "stdout",
     "output_type": "stream",
     "text": [
      "{'data': array([[1.423e+01, 1.710e+00, 2.430e+00, ..., 1.040e+00, 3.920e+00,\n",
      "        1.065e+03],\n",
      "       [1.320e+01, 1.780e+00, 2.140e+00, ..., 1.050e+00, 3.400e+00,\n",
      "        1.050e+03],\n",
      "       [1.316e+01, 2.360e+00, 2.670e+00, ..., 1.030e+00, 3.170e+00,\n",
      "        1.185e+03],\n",
      "       ...,\n",
      "       [1.327e+01, 4.280e+00, 2.260e+00, ..., 5.900e-01, 1.560e+00,\n",
      "        8.350e+02],\n",
      "       [1.317e+01, 2.590e+00, 2.370e+00, ..., 6.000e-01, 1.620e+00,\n",
      "        8.400e+02],\n",
      "       [1.413e+01, 4.100e+00, 2.740e+00, ..., 6.100e-01, 1.600e+00,\n",
      "        5.600e+02]]), 'target': array([0, 0, 0, 0, 0, 0, 0, 0, 0, 0, 0, 0, 0, 0, 0, 0, 0, 0, 0, 0, 0, 0,\n",
      "       0, 0, 0, 0, 0, 0, 0, 0, 0, 0, 0, 0, 0, 0, 0, 0, 0, 0, 0, 0, 0, 0,\n",
      "       0, 0, 0, 0, 0, 0, 0, 0, 0, 0, 0, 0, 0, 0, 0, 1, 1, 1, 1, 1, 1, 1,\n",
      "       1, 1, 1, 1, 1, 1, 1, 1, 1, 1, 1, 1, 1, 1, 1, 1, 1, 1, 1, 1, 1, 1,\n",
      "       1, 1, 1, 1, 1, 1, 1, 1, 1, 1, 1, 1, 1, 1, 1, 1, 1, 1, 1, 1, 1, 1,\n",
      "       1, 1, 1, 1, 1, 1, 1, 1, 1, 1, 1, 1, 1, 1, 1, 1, 1, 1, 1, 1, 2, 2,\n",
      "       2, 2, 2, 2, 2, 2, 2, 2, 2, 2, 2, 2, 2, 2, 2, 2, 2, 2, 2, 2, 2, 2,\n",
      "       2, 2, 2, 2, 2, 2, 2, 2, 2, 2, 2, 2, 2, 2, 2, 2, 2, 2, 2, 2, 2, 2,\n",
      "       2, 2]), 'frame': None, 'target_names': array(['class_0', 'class_1', 'class_2'], dtype='<U7'), 'DESCR': '.. _wine_dataset:\\n\\nWine recognition dataset\\n------------------------\\n\\n**Data Set Characteristics:**\\n\\n    :Number of Instances: 178 (50 in each of three classes)\\n    :Number of Attributes: 13 numeric, predictive attributes and the class\\n    :Attribute Information:\\n \\t\\t- Alcohol\\n \\t\\t- Malic acid\\n \\t\\t- Ash\\n\\t\\t- Alcalinity of ash  \\n \\t\\t- Magnesium\\n\\t\\t- Total phenols\\n \\t\\t- Flavanoids\\n \\t\\t- Nonflavanoid phenols\\n \\t\\t- Proanthocyanins\\n\\t\\t- Color intensity\\n \\t\\t- Hue\\n \\t\\t- OD280/OD315 of diluted wines\\n \\t\\t- Proline\\n\\n    - class:\\n            - class_0\\n            - class_1\\n            - class_2\\n\\t\\t\\n    :Summary Statistics:\\n    \\n    ============================= ==== ===== ======= =====\\n                                   Min   Max   Mean     SD\\n    ============================= ==== ===== ======= =====\\n    Alcohol:                      11.0  14.8    13.0   0.8\\n    Malic Acid:                   0.74  5.80    2.34  1.12\\n    Ash:                          1.36  3.23    2.36  0.27\\n    Alcalinity of Ash:            10.6  30.0    19.5   3.3\\n    Magnesium:                    70.0 162.0    99.7  14.3\\n    Total Phenols:                0.98  3.88    2.29  0.63\\n    Flavanoids:                   0.34  5.08    2.03  1.00\\n    Nonflavanoid Phenols:         0.13  0.66    0.36  0.12\\n    Proanthocyanins:              0.41  3.58    1.59  0.57\\n    Colour Intensity:              1.3  13.0     5.1   2.3\\n    Hue:                          0.48  1.71    0.96  0.23\\n    OD280/OD315 of diluted wines: 1.27  4.00    2.61  0.71\\n    Proline:                       278  1680     746   315\\n    ============================= ==== ===== ======= =====\\n\\n    :Missing Attribute Values: None\\n    :Class Distribution: class_0 (59), class_1 (71), class_2 (48)\\n    :Creator: R.A. Fisher\\n    :Donor: Michael Marshall (MARSHALL%PLU@io.arc.nasa.gov)\\n    :Date: July, 1988\\n\\nThis is a copy of UCI ML Wine recognition datasets.\\nhttps://archive.ics.uci.edu/ml/machine-learning-databases/wine/wine.data\\n\\nThe data is the results of a chemical analysis of wines grown in the same\\nregion in Italy by three different cultivators. There are thirteen different\\nmeasurements taken for different constituents found in the three types of\\nwine.\\n\\nOriginal Owners: \\n\\nForina, M. et al, PARVUS - \\nAn Extendible Package for Data Exploration, Classification and Correlation. \\nInstitute of Pharmaceutical and Food Analysis and Technologies,\\nVia Brigata Salerno, 16147 Genoa, Italy.\\n\\nCitation:\\n\\nLichman, M. (2013). UCI Machine Learning Repository\\n[https://archive.ics.uci.edu/ml]. Irvine, CA: University of California,\\nSchool of Information and Computer Science. \\n\\n.. topic:: References\\n\\n  (1) S. Aeberhard, D. Coomans and O. de Vel, \\n  Comparison of Classifiers in High Dimensional Settings, \\n  Tech. Rep. no. 92-02, (1992), Dept. of Computer Science and Dept. of  \\n  Mathematics and Statistics, James Cook University of North Queensland. \\n  (Also submitted to Technometrics). \\n\\n  The data was used with many others for comparing various \\n  classifiers. The classes are separable, though only RDA \\n  has achieved 100% correct classification. \\n  (RDA : 100%, QDA 99.4%, LDA 98.9%, 1NN 96.1% (z-transformed data)) \\n  (All results using the leave-one-out technique) \\n\\n  (2) S. Aeberhard, D. Coomans and O. de Vel, \\n  \"THE CLASSIFICATION PERFORMANCE OF RDA\" \\n  Tech. Rep. no. 92-01, (1992), Dept. of Computer Science and Dept. of \\n  Mathematics and Statistics, James Cook University of North Queensland. \\n  (Also submitted to Journal of Chemometrics).\\n', 'feature_names': ['alcohol', 'malic_acid', 'ash', 'alcalinity_of_ash', 'magnesium', 'total_phenols', 'flavanoids', 'nonflavanoid_phenols', 'proanthocyanins', 'color_intensity', 'hue', 'od280/od315_of_diluted_wines', 'proline']}\n"
     ]
    }
   ],
   "source": [
    "print(wine)"
   ]
  }
 ],
 "metadata": {
  "kernelspec": {
   "display_name": "Python 3 (ipykernel)",
   "language": "python",
   "name": "python3"
  },
  "language_info": {
   "codemirror_mode": {
    "name": "ipython",
    "version": 3
   },
   "file_extension": ".py",
   "mimetype": "text/x-python",
   "name": "python",
   "nbconvert_exporter": "python",
   "pygments_lexer": "ipython3",
   "version": "3.9.12"
  }
 },
 "nbformat": 4,
 "nbformat_minor": 5
}

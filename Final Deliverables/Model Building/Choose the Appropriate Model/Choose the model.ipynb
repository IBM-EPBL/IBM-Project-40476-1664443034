{
 "cells": [
  {
   "cell_type": "code",
   "execution_count": 52,
   "id": "782acd1f",
   "metadata": {},
   "outputs": [],
   "source": [
    "import pandas as pd\n",
    "import numpy as np\n",
    "import matplotlib.pyplot as plt\n",
    "import seaborn as sns\n",
    "from sklearn.model_selection import train_test_split\n",
    "from sklearn.linear_model import Lasso\n",
    "from sklearn.linear_model import Ridge\n",
    "from sklearn.metrics import mean_squared_error , r2_score\n",
    "import joblib\n",
    "import os\n",
    "from sklearn.ensemble import RandomForestRegressor\n",
    "from sklearn.model_selection import train_test_split\n",
    "from sklearn.metrics import mean_squared_error,r2_score\n",
    "from sklearn.linear_model import Lasso\n",
    "from sklearn.linear_model import Ridge"
   ]
  },
  {
   "cell_type": "code",
   "execution_count": 53,
   "id": "86c5bf52",
   "metadata": {},
   "outputs": [
    {
     "data": {
      "text/html": [
       "<div>\n",
       "<style scoped>\n",
       "    .dataframe tbody tr th:only-of-type {\n",
       "        vertical-align: middle;\n",
       "    }\n",
       "\n",
       "    .dataframe tbody tr th {\n",
       "        vertical-align: top;\n",
       "    }\n",
       "\n",
       "    .dataframe thead th {\n",
       "        text-align: right;\n",
       "    }\n",
       "</style>\n",
       "<table border=\"1\" class=\"dataframe\">\n",
       "  <thead>\n",
       "    <tr style=\"text-align: right;\">\n",
       "      <th></th>\n",
       "      <th>Date/Time</th>\n",
       "      <th>LV ActivePower (kW)</th>\n",
       "      <th>Wind Speed (m/s)</th>\n",
       "      <th>Theoretical_Power_Curve (KWh)</th>\n",
       "      <th>Wind Direction (°)</th>\n",
       "    </tr>\n",
       "  </thead>\n",
       "  <tbody>\n",
       "    <tr>\n",
       "      <th>0</th>\n",
       "      <td>01 01 2018 00:00</td>\n",
       "      <td>380.047791</td>\n",
       "      <td>5.311336</td>\n",
       "      <td>416.328908</td>\n",
       "      <td>259.994904</td>\n",
       "    </tr>\n",
       "    <tr>\n",
       "      <th>1</th>\n",
       "      <td>01 01 2018 00:10</td>\n",
       "      <td>453.769196</td>\n",
       "      <td>5.672167</td>\n",
       "      <td>519.917511</td>\n",
       "      <td>268.641113</td>\n",
       "    </tr>\n",
       "    <tr>\n",
       "      <th>2</th>\n",
       "      <td>01 01 2018 00:20</td>\n",
       "      <td>306.376587</td>\n",
       "      <td>5.216037</td>\n",
       "      <td>390.900016</td>\n",
       "      <td>272.564789</td>\n",
       "    </tr>\n",
       "    <tr>\n",
       "      <th>3</th>\n",
       "      <td>01 01 2018 00:30</td>\n",
       "      <td>419.645905</td>\n",
       "      <td>5.659674</td>\n",
       "      <td>516.127569</td>\n",
       "      <td>271.258087</td>\n",
       "    </tr>\n",
       "    <tr>\n",
       "      <th>4</th>\n",
       "      <td>01 01 2018 00:40</td>\n",
       "      <td>380.650696</td>\n",
       "      <td>5.577941</td>\n",
       "      <td>491.702972</td>\n",
       "      <td>265.674286</td>\n",
       "    </tr>\n",
       "    <tr>\n",
       "      <th>...</th>\n",
       "      <td>...</td>\n",
       "      <td>...</td>\n",
       "      <td>...</td>\n",
       "      <td>...</td>\n",
       "      <td>...</td>\n",
       "    </tr>\n",
       "    <tr>\n",
       "      <th>50525</th>\n",
       "      <td>31 12 2018 23:10</td>\n",
       "      <td>2963.980957</td>\n",
       "      <td>11.404030</td>\n",
       "      <td>3397.190793</td>\n",
       "      <td>80.502724</td>\n",
       "    </tr>\n",
       "    <tr>\n",
       "      <th>50526</th>\n",
       "      <td>31 12 2018 23:20</td>\n",
       "      <td>1684.353027</td>\n",
       "      <td>7.332648</td>\n",
       "      <td>1173.055771</td>\n",
       "      <td>84.062599</td>\n",
       "    </tr>\n",
       "    <tr>\n",
       "      <th>50527</th>\n",
       "      <td>31 12 2018 23:30</td>\n",
       "      <td>2201.106934</td>\n",
       "      <td>8.435358</td>\n",
       "      <td>1788.284755</td>\n",
       "      <td>84.742500</td>\n",
       "    </tr>\n",
       "    <tr>\n",
       "      <th>50528</th>\n",
       "      <td>31 12 2018 23:40</td>\n",
       "      <td>2515.694092</td>\n",
       "      <td>9.421366</td>\n",
       "      <td>2418.382503</td>\n",
       "      <td>84.297913</td>\n",
       "    </tr>\n",
       "    <tr>\n",
       "      <th>50529</th>\n",
       "      <td>31 12 2018 23:50</td>\n",
       "      <td>2820.466064</td>\n",
       "      <td>9.979332</td>\n",
       "      <td>2779.184096</td>\n",
       "      <td>82.274620</td>\n",
       "    </tr>\n",
       "  </tbody>\n",
       "</table>\n",
       "<p>50530 rows × 5 columns</p>\n",
       "</div>"
      ],
      "text/plain": [
       "              Date/Time  LV ActivePower (kW)  Wind Speed (m/s)  \\\n",
       "0      01 01 2018 00:00           380.047791          5.311336   \n",
       "1      01 01 2018 00:10           453.769196          5.672167   \n",
       "2      01 01 2018 00:20           306.376587          5.216037   \n",
       "3      01 01 2018 00:30           419.645905          5.659674   \n",
       "4      01 01 2018 00:40           380.650696          5.577941   \n",
       "...                 ...                  ...               ...   \n",
       "50525  31 12 2018 23:10          2963.980957         11.404030   \n",
       "50526  31 12 2018 23:20          1684.353027          7.332648   \n",
       "50527  31 12 2018 23:30          2201.106934          8.435358   \n",
       "50528  31 12 2018 23:40          2515.694092          9.421366   \n",
       "50529  31 12 2018 23:50          2820.466064          9.979332   \n",
       "\n",
       "       Theoretical_Power_Curve (KWh)  Wind Direction (°)  \n",
       "0                         416.328908          259.994904  \n",
       "1                         519.917511          268.641113  \n",
       "2                         390.900016          272.564789  \n",
       "3                         516.127569          271.258087  \n",
       "4                         491.702972          265.674286  \n",
       "...                              ...                 ...  \n",
       "50525                    3397.190793           80.502724  \n",
       "50526                    1173.055771           84.062599  \n",
       "50527                    1788.284755           84.742500  \n",
       "50528                    2418.382503           84.297913  \n",
       "50529                    2779.184096           82.274620  \n",
       "\n",
       "[50530 rows x 5 columns]"
      ]
     },
     "execution_count": 53,
     "metadata": {},
     "output_type": "execute_result"
    }
   ],
   "source": [
    "df=pd.read_csv(r'C:\\Users\\91948\\CondaIBM\\Final Project\\Data Colletion\\Wind turbine.csv')\n",
    "df\n"
   ]
  },
  {
   "cell_type": "code",
   "execution_count": 54,
   "id": "ebce1ea5",
   "metadata": {},
   "outputs": [
    {
     "data": {
      "text/plain": [
       "(50530, 5)"
      ]
     },
     "execution_count": 54,
     "metadata": {},
     "output_type": "execute_result"
    }
   ],
   "source": [
    "df.shape"
   ]
  },
  {
   "cell_type": "code",
   "execution_count": 55,
   "id": "56acc0c8",
   "metadata": {},
   "outputs": [
    {
     "data": {
      "text/html": [
       "<div>\n",
       "<style scoped>\n",
       "    .dataframe tbody tr th:only-of-type {\n",
       "        vertical-align: middle;\n",
       "    }\n",
       "\n",
       "    .dataframe tbody tr th {\n",
       "        vertical-align: top;\n",
       "    }\n",
       "\n",
       "    .dataframe thead th {\n",
       "        text-align: right;\n",
       "    }\n",
       "</style>\n",
       "<table border=\"1\" class=\"dataframe\">\n",
       "  <thead>\n",
       "    <tr style=\"text-align: right;\">\n",
       "      <th></th>\n",
       "      <th>Date/Time</th>\n",
       "      <th>LV ActivePower (kW)</th>\n",
       "      <th>Wind Speed (m/s)</th>\n",
       "      <th>Theoretical_Power_Curve (KWh)</th>\n",
       "      <th>Wind Direction (°)</th>\n",
       "    </tr>\n",
       "  </thead>\n",
       "  <tbody>\n",
       "    <tr>\n",
       "      <th>0</th>\n",
       "      <td>01 01 2018 00:00</td>\n",
       "      <td>0.0</td>\n",
       "      <td>0.0</td>\n",
       "      <td>0.0</td>\n",
       "      <td>0.0</td>\n",
       "    </tr>\n",
       "    <tr>\n",
       "      <th>1</th>\n",
       "      <td>01 01 2018 00:10</td>\n",
       "      <td>NaN</td>\n",
       "      <td>NaN</td>\n",
       "      <td>NaN</td>\n",
       "      <td>NaN</td>\n",
       "    </tr>\n",
       "    <tr>\n",
       "      <th>2</th>\n",
       "      <td>01 01 2018 00:20</td>\n",
       "      <td>NaN</td>\n",
       "      <td>NaN</td>\n",
       "      <td>NaN</td>\n",
       "      <td>NaN</td>\n",
       "    </tr>\n",
       "    <tr>\n",
       "      <th>3</th>\n",
       "      <td>01 01 2018 00:30</td>\n",
       "      <td>NaN</td>\n",
       "      <td>NaN</td>\n",
       "      <td>NaN</td>\n",
       "      <td>NaN</td>\n",
       "    </tr>\n",
       "    <tr>\n",
       "      <th>4</th>\n",
       "      <td>01 01 2018 00:40</td>\n",
       "      <td>NaN</td>\n",
       "      <td>NaN</td>\n",
       "      <td>NaN</td>\n",
       "      <td>NaN</td>\n",
       "    </tr>\n",
       "    <tr>\n",
       "      <th>...</th>\n",
       "      <td>...</td>\n",
       "      <td>...</td>\n",
       "      <td>...</td>\n",
       "      <td>...</td>\n",
       "      <td>...</td>\n",
       "    </tr>\n",
       "    <tr>\n",
       "      <th>50525</th>\n",
       "      <td>31 12 2018 23:10</td>\n",
       "      <td>NaN</td>\n",
       "      <td>NaN</td>\n",
       "      <td>NaN</td>\n",
       "      <td>NaN</td>\n",
       "    </tr>\n",
       "    <tr>\n",
       "      <th>50526</th>\n",
       "      <td>31 12 2018 23:20</td>\n",
       "      <td>NaN</td>\n",
       "      <td>NaN</td>\n",
       "      <td>NaN</td>\n",
       "      <td>NaN</td>\n",
       "    </tr>\n",
       "    <tr>\n",
       "      <th>50527</th>\n",
       "      <td>31 12 2018 23:30</td>\n",
       "      <td>NaN</td>\n",
       "      <td>NaN</td>\n",
       "      <td>NaN</td>\n",
       "      <td>NaN</td>\n",
       "    </tr>\n",
       "    <tr>\n",
       "      <th>50528</th>\n",
       "      <td>31 12 2018 23:40</td>\n",
       "      <td>NaN</td>\n",
       "      <td>NaN</td>\n",
       "      <td>NaN</td>\n",
       "      <td>NaN</td>\n",
       "    </tr>\n",
       "    <tr>\n",
       "      <th>50529</th>\n",
       "      <td>31 12 2018 23:50</td>\n",
       "      <td>NaN</td>\n",
       "      <td>NaN</td>\n",
       "      <td>NaN</td>\n",
       "      <td>NaN</td>\n",
       "    </tr>\n",
       "  </tbody>\n",
       "</table>\n",
       "<p>50530 rows × 5 columns</p>\n",
       "</div>"
      ],
      "text/plain": [
       "              Date/Time  LV ActivePower (kW)  Wind Speed (m/s)  \\\n",
       "0      01 01 2018 00:00                  0.0               0.0   \n",
       "1      01 01 2018 00:10                  NaN               NaN   \n",
       "2      01 01 2018 00:20                  NaN               NaN   \n",
       "3      01 01 2018 00:30                  NaN               NaN   \n",
       "4      01 01 2018 00:40                  NaN               NaN   \n",
       "...                 ...                  ...               ...   \n",
       "50525  31 12 2018 23:10                  NaN               NaN   \n",
       "50526  31 12 2018 23:20                  NaN               NaN   \n",
       "50527  31 12 2018 23:30                  NaN               NaN   \n",
       "50528  31 12 2018 23:40                  NaN               NaN   \n",
       "50529  31 12 2018 23:50                  NaN               NaN   \n",
       "\n",
       "       Theoretical_Power_Curve (KWh)  Wind Direction (°)  \n",
       "0                                0.0                 0.0  \n",
       "1                                NaN                 NaN  \n",
       "2                                NaN                 NaN  \n",
       "3                                NaN                 NaN  \n",
       "4                                NaN                 NaN  \n",
       "...                              ...                 ...  \n",
       "50525                            NaN                 NaN  \n",
       "50526                            NaN                 NaN  \n",
       "50527                            NaN                 NaN  \n",
       "50528                            NaN                 NaN  \n",
       "50529                            NaN                 NaN  \n",
       "\n",
       "[50530 rows x 5 columns]"
      ]
     },
     "execution_count": 55,
     "metadata": {},
     "output_type": "execute_result"
    }
   ],
   "source": [
    "df.mode()"
   ]
  },
  {
   "cell_type": "code",
   "execution_count": 56,
   "id": "87504fff",
   "metadata": {},
   "outputs": [
    {
     "data": {
      "text/html": [
       "<div>\n",
       "<style scoped>\n",
       "    .dataframe tbody tr th:only-of-type {\n",
       "        vertical-align: middle;\n",
       "    }\n",
       "\n",
       "    .dataframe tbody tr th {\n",
       "        vertical-align: top;\n",
       "    }\n",
       "\n",
       "    .dataframe thead th {\n",
       "        text-align: right;\n",
       "    }\n",
       "</style>\n",
       "<table border=\"1\" class=\"dataframe\">\n",
       "  <thead>\n",
       "    <tr style=\"text-align: right;\">\n",
       "      <th></th>\n",
       "      <th>Date/Time</th>\n",
       "      <th>LV ActivePower (kW)</th>\n",
       "      <th>Wind Speed (m/s)</th>\n",
       "      <th>Theoretical_Power_Curve (KWh)</th>\n",
       "      <th>Wind Direction (°)</th>\n",
       "    </tr>\n",
       "  </thead>\n",
       "  <tbody>\n",
       "    <tr>\n",
       "      <th>0</th>\n",
       "      <td>01 01 2018 00:00</td>\n",
       "      <td>0.0</td>\n",
       "      <td>0.0</td>\n",
       "      <td>0.0</td>\n",
       "      <td>0.0</td>\n",
       "    </tr>\n",
       "    <tr>\n",
       "      <th>1</th>\n",
       "      <td>01 01 2018 00:10</td>\n",
       "      <td>NaN</td>\n",
       "      <td>NaN</td>\n",
       "      <td>NaN</td>\n",
       "      <td>NaN</td>\n",
       "    </tr>\n",
       "    <tr>\n",
       "      <th>2</th>\n",
       "      <td>01 01 2018 00:20</td>\n",
       "      <td>NaN</td>\n",
       "      <td>NaN</td>\n",
       "      <td>NaN</td>\n",
       "      <td>NaN</td>\n",
       "    </tr>\n",
       "    <tr>\n",
       "      <th>3</th>\n",
       "      <td>01 01 2018 00:30</td>\n",
       "      <td>NaN</td>\n",
       "      <td>NaN</td>\n",
       "      <td>NaN</td>\n",
       "      <td>NaN</td>\n",
       "    </tr>\n",
       "    <tr>\n",
       "      <th>4</th>\n",
       "      <td>01 01 2018 00:40</td>\n",
       "      <td>NaN</td>\n",
       "      <td>NaN</td>\n",
       "      <td>NaN</td>\n",
       "      <td>NaN</td>\n",
       "    </tr>\n",
       "    <tr>\n",
       "      <th>...</th>\n",
       "      <td>...</td>\n",
       "      <td>...</td>\n",
       "      <td>...</td>\n",
       "      <td>...</td>\n",
       "      <td>...</td>\n",
       "    </tr>\n",
       "    <tr>\n",
       "      <th>50525</th>\n",
       "      <td>31 12 2018 23:10</td>\n",
       "      <td>NaN</td>\n",
       "      <td>NaN</td>\n",
       "      <td>NaN</td>\n",
       "      <td>NaN</td>\n",
       "    </tr>\n",
       "    <tr>\n",
       "      <th>50526</th>\n",
       "      <td>31 12 2018 23:20</td>\n",
       "      <td>NaN</td>\n",
       "      <td>NaN</td>\n",
       "      <td>NaN</td>\n",
       "      <td>NaN</td>\n",
       "    </tr>\n",
       "    <tr>\n",
       "      <th>50527</th>\n",
       "      <td>31 12 2018 23:30</td>\n",
       "      <td>NaN</td>\n",
       "      <td>NaN</td>\n",
       "      <td>NaN</td>\n",
       "      <td>NaN</td>\n",
       "    </tr>\n",
       "    <tr>\n",
       "      <th>50528</th>\n",
       "      <td>31 12 2018 23:40</td>\n",
       "      <td>NaN</td>\n",
       "      <td>NaN</td>\n",
       "      <td>NaN</td>\n",
       "      <td>NaN</td>\n",
       "    </tr>\n",
       "    <tr>\n",
       "      <th>50529</th>\n",
       "      <td>31 12 2018 23:50</td>\n",
       "      <td>NaN</td>\n",
       "      <td>NaN</td>\n",
       "      <td>NaN</td>\n",
       "      <td>NaN</td>\n",
       "    </tr>\n",
       "  </tbody>\n",
       "</table>\n",
       "<p>50530 rows × 5 columns</p>\n",
       "</div>"
      ],
      "text/plain": [
       "              Date/Time  LV ActivePower (kW)  Wind Speed (m/s)  \\\n",
       "0      01 01 2018 00:00                  0.0               0.0   \n",
       "1      01 01 2018 00:10                  NaN               NaN   \n",
       "2      01 01 2018 00:20                  NaN               NaN   \n",
       "3      01 01 2018 00:30                  NaN               NaN   \n",
       "4      01 01 2018 00:40                  NaN               NaN   \n",
       "...                 ...                  ...               ...   \n",
       "50525  31 12 2018 23:10                  NaN               NaN   \n",
       "50526  31 12 2018 23:20                  NaN               NaN   \n",
       "50527  31 12 2018 23:30                  NaN               NaN   \n",
       "50528  31 12 2018 23:40                  NaN               NaN   \n",
       "50529  31 12 2018 23:50                  NaN               NaN   \n",
       "\n",
       "       Theoretical_Power_Curve (KWh)  Wind Direction (°)  \n",
       "0                                0.0                 0.0  \n",
       "1                                NaN                 NaN  \n",
       "2                                NaN                 NaN  \n",
       "3                                NaN                 NaN  \n",
       "4                                NaN                 NaN  \n",
       "...                              ...                 ...  \n",
       "50525                            NaN                 NaN  \n",
       "50526                            NaN                 NaN  \n",
       "50527                            NaN                 NaN  \n",
       "50528                            NaN                 NaN  \n",
       "50529                            NaN                 NaN  \n",
       "\n",
       "[50530 rows x 5 columns]"
      ]
     },
     "execution_count": 56,
     "metadata": {},
     "output_type": "execute_result"
    }
   ],
   "source": [
    "df.mode()"
   ]
  },
  {
   "cell_type": "code",
   "execution_count": 57,
   "id": "1bb719ff",
   "metadata": {},
   "outputs": [
    {
     "data": {
      "text/html": [
       "<div>\n",
       "<style scoped>\n",
       "    .dataframe tbody tr th:only-of-type {\n",
       "        vertical-align: middle;\n",
       "    }\n",
       "\n",
       "    .dataframe tbody tr th {\n",
       "        vertical-align: top;\n",
       "    }\n",
       "\n",
       "    .dataframe thead th {\n",
       "        text-align: right;\n",
       "    }\n",
       "</style>\n",
       "<table border=\"1\" class=\"dataframe\">\n",
       "  <thead>\n",
       "    <tr style=\"text-align: right;\">\n",
       "      <th></th>\n",
       "      <th>count</th>\n",
       "      <th>mean</th>\n",
       "      <th>std</th>\n",
       "      <th>min</th>\n",
       "      <th>25%</th>\n",
       "      <th>50%</th>\n",
       "      <th>75%</th>\n",
       "      <th>max</th>\n",
       "    </tr>\n",
       "  </thead>\n",
       "  <tbody>\n",
       "    <tr>\n",
       "      <th>LV ActivePower (kW)</th>\n",
       "      <td>50530.0</td>\n",
       "      <td>1307.684332</td>\n",
       "      <td>1312.459242</td>\n",
       "      <td>-2.471405</td>\n",
       "      <td>50.677890</td>\n",
       "      <td>825.838074</td>\n",
       "      <td>2482.507568</td>\n",
       "      <td>3618.732910</td>\n",
       "    </tr>\n",
       "    <tr>\n",
       "      <th>Wind Speed (m/s)</th>\n",
       "      <td>50530.0</td>\n",
       "      <td>7.557952</td>\n",
       "      <td>4.227166</td>\n",
       "      <td>0.000000</td>\n",
       "      <td>4.201395</td>\n",
       "      <td>7.104594</td>\n",
       "      <td>10.300020</td>\n",
       "      <td>25.206011</td>\n",
       "    </tr>\n",
       "    <tr>\n",
       "      <th>Theoretical_Power_Curve (KWh)</th>\n",
       "      <td>50530.0</td>\n",
       "      <td>1492.175463</td>\n",
       "      <td>1368.018238</td>\n",
       "      <td>0.000000</td>\n",
       "      <td>161.328167</td>\n",
       "      <td>1063.776283</td>\n",
       "      <td>2964.972462</td>\n",
       "      <td>3600.000000</td>\n",
       "    </tr>\n",
       "    <tr>\n",
       "      <th>Wind Direction (°)</th>\n",
       "      <td>50530.0</td>\n",
       "      <td>123.687559</td>\n",
       "      <td>93.443736</td>\n",
       "      <td>0.000000</td>\n",
       "      <td>49.315437</td>\n",
       "      <td>73.712978</td>\n",
       "      <td>201.696720</td>\n",
       "      <td>359.997589</td>\n",
       "    </tr>\n",
       "  </tbody>\n",
       "</table>\n",
       "</div>"
      ],
      "text/plain": [
       "                                 count         mean          std       min  \\\n",
       "LV ActivePower (kW)            50530.0  1307.684332  1312.459242 -2.471405   \n",
       "Wind Speed (m/s)               50530.0     7.557952     4.227166  0.000000   \n",
       "Theoretical_Power_Curve (KWh)  50530.0  1492.175463  1368.018238  0.000000   \n",
       "Wind Direction (°)             50530.0   123.687559    93.443736  0.000000   \n",
       "\n",
       "                                      25%          50%          75%  \\\n",
       "LV ActivePower (kW)             50.677890   825.838074  2482.507568   \n",
       "Wind Speed (m/s)                 4.201395     7.104594    10.300020   \n",
       "Theoretical_Power_Curve (KWh)  161.328167  1063.776283  2964.972462   \n",
       "Wind Direction (°)              49.315437    73.712978   201.696720   \n",
       "\n",
       "                                       max  \n",
       "LV ActivePower (kW)            3618.732910  \n",
       "Wind Speed (m/s)                 25.206011  \n",
       "Theoretical_Power_Curve (KWh)  3600.000000  \n",
       "Wind Direction (°)              359.997589  "
      ]
     },
     "execution_count": 57,
     "metadata": {},
     "output_type": "execute_result"
    }
   ],
   "source": [
    "df.describe().T"
   ]
  },
  {
   "cell_type": "code",
   "execution_count": 58,
   "id": "2e110fba",
   "metadata": {},
   "outputs": [
    {
     "data": {
      "text/plain": [
       "Date/Time                        False\n",
       "LV ActivePower (kW)              False\n",
       "Wind Speed (m/s)                 False\n",
       "Theoretical_Power_Curve (KWh)    False\n",
       "Wind Direction (°)               False\n",
       "dtype: bool"
      ]
     },
     "execution_count": 58,
     "metadata": {},
     "output_type": "execute_result"
    }
   ],
   "source": [
    "df.isna().any()"
   ]
  },
  {
   "cell_type": "code",
   "execution_count": 59,
   "id": "54b13197",
   "metadata": {},
   "outputs": [
    {
     "name": "stderr",
     "output_type": "stream",
     "text": [
      "C:\\Users\\91948\\AppData\\Local\\Temp\\ipykernel_15876\\1568254755.py:1: FutureWarning: Dropping of nuisance columns in DataFrame reductions (with 'numeric_only=None') is deprecated; in a future version this will raise TypeError.  Select only valid columns before calling the reduction.\n",
      "  df.var()\n"
     ]
    },
    {
     "data": {
      "text/plain": [
       "LV ActivePower (kW)              1.722549e+06\n",
       "Wind Speed (m/s)                 1.786893e+01\n",
       "Theoretical_Power_Curve (KWh)    1.871474e+06\n",
       "Wind Direction (°)               8.731732e+03\n",
       "dtype: float64"
      ]
     },
     "execution_count": 59,
     "metadata": {},
     "output_type": "execute_result"
    }
   ],
   "source": [
    "df.var()"
   ]
  },
  {
   "cell_type": "code",
   "execution_count": 60,
   "id": "c4406105",
   "metadata": {},
   "outputs": [
    {
     "data": {
      "text/plain": [
       "0    380.047791\n",
       "1    453.769196\n",
       "2    306.376587\n",
       "3    419.645905\n",
       "4    380.650696\n",
       "Name: LV ActivePower (kW), dtype: float64"
      ]
     },
     "execution_count": 60,
     "metadata": {},
     "output_type": "execute_result"
    }
   ],
   "source": [
    "x=df[['Wind Speed (m/s)']]\n",
    "y = df['LV ActivePower (kW)']\n",
    "y.head()"
   ]
  },
  {
   "cell_type": "code",
   "execution_count": 61,
   "id": "f3392e83",
   "metadata": {},
   "outputs": [
    {
     "data": {
      "text/html": [
       "<div>\n",
       "<style scoped>\n",
       "    .dataframe tbody tr th:only-of-type {\n",
       "        vertical-align: middle;\n",
       "    }\n",
       "\n",
       "    .dataframe tbody tr th {\n",
       "        vertical-align: top;\n",
       "    }\n",
       "\n",
       "    .dataframe thead th {\n",
       "        text-align: right;\n",
       "    }\n",
       "</style>\n",
       "<table border=\"1\" class=\"dataframe\">\n",
       "  <thead>\n",
       "    <tr style=\"text-align: right;\">\n",
       "      <th></th>\n",
       "      <th>Wind Speed (m/s)</th>\n",
       "    </tr>\n",
       "  </thead>\n",
       "  <tbody>\n",
       "    <tr>\n",
       "      <th>0</th>\n",
       "      <td>5.311336</td>\n",
       "    </tr>\n",
       "    <tr>\n",
       "      <th>1</th>\n",
       "      <td>5.672167</td>\n",
       "    </tr>\n",
       "    <tr>\n",
       "      <th>2</th>\n",
       "      <td>5.216037</td>\n",
       "    </tr>\n",
       "    <tr>\n",
       "      <th>3</th>\n",
       "      <td>5.659674</td>\n",
       "    </tr>\n",
       "    <tr>\n",
       "      <th>4</th>\n",
       "      <td>5.577941</td>\n",
       "    </tr>\n",
       "  </tbody>\n",
       "</table>\n",
       "</div>"
      ],
      "text/plain": [
       "   Wind Speed (m/s)\n",
       "0          5.311336\n",
       "1          5.672167\n",
       "2          5.216037\n",
       "3          5.659674\n",
       "4          5.577941"
      ]
     },
     "execution_count": 61,
     "metadata": {},
     "output_type": "execute_result"
    }
   ],
   "source": [
    "x.head()"
   ]
  },
  {
   "cell_type": "code",
   "execution_count": 62,
   "id": "f3625eee",
   "metadata": {},
   "outputs": [],
   "source": [
    "x_train, x_test,y_train, y_test = train_test_split(x,y ,\n",
    "                                   random_state=94, \n",
    "                                   test_size=0.20)"
   ]
  },
  {
   "cell_type": "code",
   "execution_count": 63,
   "id": "39185311",
   "metadata": {},
   "outputs": [
    {
     "data": {
      "text/html": [
       "<div>\n",
       "<style scoped>\n",
       "    .dataframe tbody tr th:only-of-type {\n",
       "        vertical-align: middle;\n",
       "    }\n",
       "\n",
       "    .dataframe tbody tr th {\n",
       "        vertical-align: top;\n",
       "    }\n",
       "\n",
       "    .dataframe thead th {\n",
       "        text-align: right;\n",
       "    }\n",
       "</style>\n",
       "<table border=\"1\" class=\"dataframe\">\n",
       "  <thead>\n",
       "    <tr style=\"text-align: right;\">\n",
       "      <th></th>\n",
       "      <th>Wind Speed (m/s)</th>\n",
       "    </tr>\n",
       "  </thead>\n",
       "  <tbody>\n",
       "    <tr>\n",
       "      <th>33219</th>\n",
       "      <td>7.303417</td>\n",
       "    </tr>\n",
       "    <tr>\n",
       "      <th>3655</th>\n",
       "      <td>5.868001</td>\n",
       "    </tr>\n",
       "    <tr>\n",
       "      <th>24597</th>\n",
       "      <td>11.558850</td>\n",
       "    </tr>\n",
       "    <tr>\n",
       "      <th>4895</th>\n",
       "      <td>9.873700</td>\n",
       "    </tr>\n",
       "    <tr>\n",
       "      <th>8628</th>\n",
       "      <td>15.437600</td>\n",
       "    </tr>\n",
       "    <tr>\n",
       "      <th>...</th>\n",
       "      <td>...</td>\n",
       "    </tr>\n",
       "    <tr>\n",
       "      <th>26802</th>\n",
       "      <td>5.086676</td>\n",
       "    </tr>\n",
       "    <tr>\n",
       "      <th>50499</th>\n",
       "      <td>4.994785</td>\n",
       "    </tr>\n",
       "    <tr>\n",
       "      <th>34149</th>\n",
       "      <td>9.199881</td>\n",
       "    </tr>\n",
       "    <tr>\n",
       "      <th>6482</th>\n",
       "      <td>10.838520</td>\n",
       "    </tr>\n",
       "    <tr>\n",
       "      <th>43707</th>\n",
       "      <td>7.488448</td>\n",
       "    </tr>\n",
       "  </tbody>\n",
       "</table>\n",
       "<p>40424 rows × 1 columns</p>\n",
       "</div>"
      ],
      "text/plain": [
       "       Wind Speed (m/s)\n",
       "33219          7.303417\n",
       "3655           5.868001\n",
       "24597         11.558850\n",
       "4895           9.873700\n",
       "8628          15.437600\n",
       "...                 ...\n",
       "26802          5.086676\n",
       "50499          4.994785\n",
       "34149          9.199881\n",
       "6482          10.838520\n",
       "43707          7.488448\n",
       "\n",
       "[40424 rows x 1 columns]"
      ]
     },
     "execution_count": 63,
     "metadata": {},
     "output_type": "execute_result"
    }
   ],
   "source": [
    "x_train"
   ]
  },
  {
   "cell_type": "code",
   "execution_count": 64,
   "id": "537116bc",
   "metadata": {},
   "outputs": [
    {
     "data": {
      "text/plain": [
       "33219     870.955688\n",
       "3655        0.000000\n",
       "24597    3054.933105\n",
       "4895     2413.622070\n",
       "8628     3476.139893\n",
       "            ...     \n",
       "26802     348.389313\n",
       "50499     471.419708\n",
       "34149    1994.834961\n",
       "6482     3143.066895\n",
       "43707       0.000000\n",
       "Name: LV ActivePower (kW), Length: 40424, dtype: float64"
      ]
     },
     "execution_count": 64,
     "metadata": {},
     "output_type": "execute_result"
    }
   ],
   "source": [
    "y_train"
   ]
  },
  {
   "cell_type": "code",
   "execution_count": 65,
   "id": "90f12c88",
   "metadata": {},
   "outputs": [
    {
     "data": {
      "text/html": [
       "<div>\n",
       "<style scoped>\n",
       "    .dataframe tbody tr th:only-of-type {\n",
       "        vertical-align: middle;\n",
       "    }\n",
       "\n",
       "    .dataframe tbody tr th {\n",
       "        vertical-align: top;\n",
       "    }\n",
       "\n",
       "    .dataframe thead th {\n",
       "        text-align: right;\n",
       "    }\n",
       "</style>\n",
       "<table border=\"1\" class=\"dataframe\">\n",
       "  <thead>\n",
       "    <tr style=\"text-align: right;\">\n",
       "      <th></th>\n",
       "      <th>Wind Speed (m/s)</th>\n",
       "    </tr>\n",
       "  </thead>\n",
       "  <tbody>\n",
       "    <tr>\n",
       "      <th>25113</th>\n",
       "      <td>6.523438</td>\n",
       "    </tr>\n",
       "    <tr>\n",
       "      <th>29042</th>\n",
       "      <td>5.636841</td>\n",
       "    </tr>\n",
       "    <tr>\n",
       "      <th>5676</th>\n",
       "      <td>15.398290</td>\n",
       "    </tr>\n",
       "    <tr>\n",
       "      <th>47493</th>\n",
       "      <td>5.444841</td>\n",
       "    </tr>\n",
       "    <tr>\n",
       "      <th>11948</th>\n",
       "      <td>9.373304</td>\n",
       "    </tr>\n",
       "    <tr>\n",
       "      <th>...</th>\n",
       "      <td>...</td>\n",
       "    </tr>\n",
       "    <tr>\n",
       "      <th>20607</th>\n",
       "      <td>9.153069</td>\n",
       "    </tr>\n",
       "    <tr>\n",
       "      <th>22234</th>\n",
       "      <td>2.211192</td>\n",
       "    </tr>\n",
       "    <tr>\n",
       "      <th>8105</th>\n",
       "      <td>17.583490</td>\n",
       "    </tr>\n",
       "    <tr>\n",
       "      <th>28472</th>\n",
       "      <td>2.486562</td>\n",
       "    </tr>\n",
       "    <tr>\n",
       "      <th>2098</th>\n",
       "      <td>5.197076</td>\n",
       "    </tr>\n",
       "  </tbody>\n",
       "</table>\n",
       "<p>10106 rows × 1 columns</p>\n",
       "</div>"
      ],
      "text/plain": [
       "       Wind Speed (m/s)\n",
       "25113          6.523438\n",
       "29042          5.636841\n",
       "5676          15.398290\n",
       "47493          5.444841\n",
       "11948          9.373304\n",
       "...                 ...\n",
       "20607          9.153069\n",
       "22234          2.211192\n",
       "8105          17.583490\n",
       "28472          2.486562\n",
       "2098           5.197076\n",
       "\n",
       "[10106 rows x 1 columns]"
      ]
     },
     "execution_count": 65,
     "metadata": {},
     "output_type": "execute_result"
    }
   ],
   "source": [
    "x_test"
   ]
  },
  {
   "cell_type": "code",
   "execution_count": 66,
   "id": "d7f91d80",
   "metadata": {},
   "outputs": [
    {
     "data": {
      "text/plain": [
       "25113     728.294678\n",
       "29042     362.814514\n",
       "5676     3460.604980\n",
       "47493     488.096710\n",
       "11948    2539.521973\n",
       "            ...     \n",
       "20607    2013.511963\n",
       "22234       0.000000\n",
       "8105     3461.856934\n",
       "28472       0.000000\n",
       "2098      304.907501\n",
       "Name: LV ActivePower (kW), Length: 10106, dtype: float64"
      ]
     },
     "execution_count": 66,
     "metadata": {},
     "output_type": "execute_result"
    }
   ],
   "source": [
    "y_test"
   ]
  },
  {
   "cell_type": "markdown",
   "id": "dfaaf46c",
   "metadata": {},
   "source": [
    "--Model training and testing"
   ]
  },
  {
   "cell_type": "code",
   "execution_count": 67,
   "id": "63e34cf7",
   "metadata": {},
   "outputs": [],
   "source": [
    "RFR= RandomForestRegressor(n_estimators = 750, max_depth = 4, max_leaf_nodes = 500, random_state = 1)"
   ]
  },
  {
   "cell_type": "code",
   "execution_count": 68,
   "id": "a22d0101",
   "metadata": {},
   "outputs": [
    {
     "data": {
      "text/plain": [
       "RandomForestRegressor(max_depth=4, max_leaf_nodes=500, n_estimators=750,\n",
       "                      random_state=1)"
      ]
     },
     "execution_count": 68,
     "metadata": {},
     "output_type": "execute_result"
    }
   ],
   "source": [
    "RFR.fit(x_train,y_train) "
   ]
  },
  {
   "cell_type": "code",
   "execution_count": 69,
   "id": "c84ca287",
   "metadata": {},
   "outputs": [],
   "source": [
    "y_pred=RFR.predict(x_test)"
   ]
  },
  {
   "cell_type": "code",
   "execution_count": 48,
   "id": "ad82c909",
   "metadata": {},
   "outputs": [
    {
     "data": {
      "text/plain": [
       "array([6.79387765e+02, 4.05061637e+02, 3.41751091e+03, ...,\n",
       "       3.53480917e+03, 3.14414437e+00, 3.01472402e+02])"
      ]
     },
     "execution_count": 48,
     "metadata": {},
     "output_type": "execute_result"
    }
   ],
   "source": [
    "y_pred"
   ]
  },
  {
   "cell_type": "code",
   "execution_count": 71,
   "id": "20c62ae1",
   "metadata": {},
   "outputs": [],
   "source": [
    "predicted=RFR.predict(x_train)"
   ]
  },
  {
   "cell_type": "code",
   "execution_count": 72,
   "id": "2d8258ed",
   "metadata": {},
   "outputs": [
    {
     "data": {
      "text/plain": [
       "array([1001.05403685,  537.60142348, 3045.0687722 , ..., 1796.31561314,\n",
       "       2636.33799561, 1002.07902887])"
      ]
     },
     "execution_count": 72,
     "metadata": {},
     "output_type": "execute_result"
    }
   ],
   "source": [
    "predicted"
   ]
  },
  {
   "cell_type": "markdown",
   "id": "3e1926a7",
   "metadata": {},
   "source": [
    "--For finding the accuracy"
   ]
  },
  {
   "cell_type": "code",
   "execution_count": 74,
   "id": "3dd62289",
   "metadata": {},
   "outputs": [],
   "source": [
    "accuracy=r2_score(y_test,y_pred)"
   ]
  },
  {
   "cell_type": "code",
   "execution_count": 75,
   "id": "4801e002",
   "metadata": {},
   "outputs": [
    {
     "data": {
      "text/plain": [
       "0.910887548174758"
      ]
     },
     "execution_count": 75,
     "metadata": {},
     "output_type": "execute_result"
    }
   ],
   "source": [
    "accuracy"
   ]
  },
  {
   "cell_type": "markdown",
   "id": "8e5824b1",
   "metadata": {},
   "source": [
    "--There the Accuracy value calculated :0.910887548174758."
   ]
  },
  {
   "cell_type": "markdown",
   "id": "4cc32aab",
   "metadata": {},
   "source": [
    "--This is for saving the model"
   ]
  },
  {
   "cell_type": "code",
   "execution_count": 81,
   "id": "b8d77338",
   "metadata": {},
   "outputs": [
    {
     "data": {
      "text/plain": [
       "['Output Power Predicted.sav']"
      ]
     },
     "execution_count": 81,
     "metadata": {},
     "output_type": "execute_result"
    }
   ],
   "source": [
    "joblib.dump(RFR, \"Output Power Predicted.sav\")"
   ]
  }
 ],
 "metadata": {
  "kernelspec": {
   "display_name": "Python 3 (ipykernel)",
   "language": "python",
   "name": "python3"
  },
  "language_info": {
   "codemirror_mode": {
    "name": "ipython",
    "version": 3
   },
   "file_extension": ".py",
   "mimetype": "text/x-python",
   "name": "python",
   "nbconvert_exporter": "python",
   "pygments_lexer": "ipython3",
   "version": "3.9.12"
  }
 },
 "nbformat": 4,
 "nbformat_minor": 5
}

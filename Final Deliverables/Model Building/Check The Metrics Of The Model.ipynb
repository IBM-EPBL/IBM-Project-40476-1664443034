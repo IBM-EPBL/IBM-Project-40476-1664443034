{
 "cells": [
  {
   "cell_type": "code",
   "execution_count": 1,
   "id": "c95233f5",
   "metadata": {},
   "outputs": [],
   "source": [
    "import pandas as pd\n",
    "import numpy as np\n",
    "import matplotlib.pyplot as plt\n",
    "import seaborn as sns\n",
    "from sklearn.svm import SVR\n",
    "from datetime import datetime\n",
    "from sklearn.model_selection import train_test_split,RandomizedSearchCV, GridSearchCV\n",
    "from sklearn.metrics import accuracy_score,r2_score,mean_squared_error,confusion_matrix\n",
    "from sklearn.tree import DecisionTreeRegressor\n",
    "from sklearn.linear_model import LogisticRegression\n",
    "from sklearn.linear_model import LinearRegression\n",
    "from sklearn.ensemble import RandomForestRegressor,VotingRegressor\n",
    "from sklearn import preprocessing\n",
    "from sklearn import utils\n",
    "from xgboost import XGBRegressor"
   ]
  },
  {
   "cell_type": "code",
   "execution_count": 2,
   "id": "0acd133c",
   "metadata": {},
   "outputs": [
    {
     "data": {
      "text/html": [
       "<div>\n",
       "<style scoped>\n",
       "    .dataframe tbody tr th:only-of-type {\n",
       "        vertical-align: middle;\n",
       "    }\n",
       "\n",
       "    .dataframe tbody tr th {\n",
       "        vertical-align: top;\n",
       "    }\n",
       "\n",
       "    .dataframe thead th {\n",
       "        text-align: right;\n",
       "    }\n",
       "</style>\n",
       "<table border=\"1\" class=\"dataframe\">\n",
       "  <thead>\n",
       "    <tr style=\"text-align: right;\">\n",
       "      <th></th>\n",
       "      <th>Date/Time</th>\n",
       "      <th>LV ActivePower (kW)</th>\n",
       "      <th>Wind Speed (m/s)</th>\n",
       "      <th>Theoretical_Power_Curve (KWh)</th>\n",
       "      <th>Wind Direction (°)</th>\n",
       "    </tr>\n",
       "  </thead>\n",
       "  <tbody>\n",
       "    <tr>\n",
       "      <th>0</th>\n",
       "      <td>01 01 2018 00:00</td>\n",
       "      <td>380.047791</td>\n",
       "      <td>5.311336</td>\n",
       "      <td>416.328908</td>\n",
       "      <td>259.994904</td>\n",
       "    </tr>\n",
       "    <tr>\n",
       "      <th>1</th>\n",
       "      <td>01 01 2018 00:10</td>\n",
       "      <td>453.769196</td>\n",
       "      <td>5.672167</td>\n",
       "      <td>519.917511</td>\n",
       "      <td>268.641113</td>\n",
       "    </tr>\n",
       "    <tr>\n",
       "      <th>2</th>\n",
       "      <td>01 01 2018 00:20</td>\n",
       "      <td>306.376587</td>\n",
       "      <td>5.216037</td>\n",
       "      <td>390.900016</td>\n",
       "      <td>272.564789</td>\n",
       "    </tr>\n",
       "    <tr>\n",
       "      <th>3</th>\n",
       "      <td>01 01 2018 00:30</td>\n",
       "      <td>419.645905</td>\n",
       "      <td>5.659674</td>\n",
       "      <td>516.127569</td>\n",
       "      <td>271.258087</td>\n",
       "    </tr>\n",
       "    <tr>\n",
       "      <th>4</th>\n",
       "      <td>01 01 2018 00:40</td>\n",
       "      <td>380.650696</td>\n",
       "      <td>5.577941</td>\n",
       "      <td>491.702972</td>\n",
       "      <td>265.674286</td>\n",
       "    </tr>\n",
       "    <tr>\n",
       "      <th>...</th>\n",
       "      <td>...</td>\n",
       "      <td>...</td>\n",
       "      <td>...</td>\n",
       "      <td>...</td>\n",
       "      <td>...</td>\n",
       "    </tr>\n",
       "    <tr>\n",
       "      <th>50525</th>\n",
       "      <td>31 12 2018 23:10</td>\n",
       "      <td>2963.980957</td>\n",
       "      <td>11.404030</td>\n",
       "      <td>3397.190793</td>\n",
       "      <td>80.502724</td>\n",
       "    </tr>\n",
       "    <tr>\n",
       "      <th>50526</th>\n",
       "      <td>31 12 2018 23:20</td>\n",
       "      <td>1684.353027</td>\n",
       "      <td>7.332648</td>\n",
       "      <td>1173.055771</td>\n",
       "      <td>84.062599</td>\n",
       "    </tr>\n",
       "    <tr>\n",
       "      <th>50527</th>\n",
       "      <td>31 12 2018 23:30</td>\n",
       "      <td>2201.106934</td>\n",
       "      <td>8.435358</td>\n",
       "      <td>1788.284755</td>\n",
       "      <td>84.742500</td>\n",
       "    </tr>\n",
       "    <tr>\n",
       "      <th>50528</th>\n",
       "      <td>31 12 2018 23:40</td>\n",
       "      <td>2515.694092</td>\n",
       "      <td>9.421366</td>\n",
       "      <td>2418.382503</td>\n",
       "      <td>84.297913</td>\n",
       "    </tr>\n",
       "    <tr>\n",
       "      <th>50529</th>\n",
       "      <td>31 12 2018 23:50</td>\n",
       "      <td>2820.466064</td>\n",
       "      <td>9.979332</td>\n",
       "      <td>2779.184096</td>\n",
       "      <td>82.274620</td>\n",
       "    </tr>\n",
       "  </tbody>\n",
       "</table>\n",
       "<p>50530 rows × 5 columns</p>\n",
       "</div>"
      ],
      "text/plain": [
       "              Date/Time  LV ActivePower (kW)  Wind Speed (m/s)  \\\n",
       "0      01 01 2018 00:00           380.047791          5.311336   \n",
       "1      01 01 2018 00:10           453.769196          5.672167   \n",
       "2      01 01 2018 00:20           306.376587          5.216037   \n",
       "3      01 01 2018 00:30           419.645905          5.659674   \n",
       "4      01 01 2018 00:40           380.650696          5.577941   \n",
       "...                 ...                  ...               ...   \n",
       "50525  31 12 2018 23:10          2963.980957         11.404030   \n",
       "50526  31 12 2018 23:20          1684.353027          7.332648   \n",
       "50527  31 12 2018 23:30          2201.106934          8.435358   \n",
       "50528  31 12 2018 23:40          2515.694092          9.421366   \n",
       "50529  31 12 2018 23:50          2820.466064          9.979332   \n",
       "\n",
       "       Theoretical_Power_Curve (KWh)  Wind Direction (°)  \n",
       "0                         416.328908          259.994904  \n",
       "1                         519.917511          268.641113  \n",
       "2                         390.900016          272.564789  \n",
       "3                         516.127569          271.258087  \n",
       "4                         491.702972          265.674286  \n",
       "...                              ...                 ...  \n",
       "50525                    3397.190793           80.502724  \n",
       "50526                    1173.055771           84.062599  \n",
       "50527                    1788.284755           84.742500  \n",
       "50528                    2418.382503           84.297913  \n",
       "50529                    2779.184096           82.274620  \n",
       "\n",
       "[50530 rows x 5 columns]"
      ]
     },
     "execution_count": 2,
     "metadata": {},
     "output_type": "execute_result"
    }
   ],
   "source": [
    "df=pd.read_csv(r'C:\\Users\\91948\\CondaIBM\\Final Project\\Data Colletion\\Wind turbine.csv')\n",
    "df"
   ]
  },
  {
   "cell_type": "code",
   "execution_count": 3,
   "id": "30c8cbaa",
   "metadata": {},
   "outputs": [
    {
     "data": {
      "text/plain": [
       "(50530, 5)"
      ]
     },
     "execution_count": 3,
     "metadata": {},
     "output_type": "execute_result"
    }
   ],
   "source": [
    "df.shape"
   ]
  },
  {
   "cell_type": "code",
   "execution_count": 4,
   "id": "eb08d9b9",
   "metadata": {},
   "outputs": [
    {
     "name": "stdout",
     "output_type": "stream",
     "text": [
      "<class 'pandas.core.frame.DataFrame'>\n",
      "RangeIndex: 50530 entries, 0 to 50529\n",
      "Data columns (total 5 columns):\n",
      " #   Column                         Non-Null Count  Dtype  \n",
      "---  ------                         --------------  -----  \n",
      " 0   Date/Time                      50530 non-null  object \n",
      " 1   LV ActivePower (kW)            50530 non-null  float64\n",
      " 2   Wind Speed (m/s)               50530 non-null  float64\n",
      " 3   Theoretical_Power_Curve (KWh)  50530 non-null  float64\n",
      " 4   Wind Direction (°)             50530 non-null  float64\n",
      "dtypes: float64(4), object(1)\n",
      "memory usage: 1.9+ MB\n"
     ]
    }
   ],
   "source": [
    "df.info()"
   ]
  },
  {
   "cell_type": "code",
   "execution_count": 5,
   "id": "17b47351",
   "metadata": {},
   "outputs": [
    {
     "data": {
      "text/html": [
       "<div>\n",
       "<style scoped>\n",
       "    .dataframe tbody tr th:only-of-type {\n",
       "        vertical-align: middle;\n",
       "    }\n",
       "\n",
       "    .dataframe tbody tr th {\n",
       "        vertical-align: top;\n",
       "    }\n",
       "\n",
       "    .dataframe thead th {\n",
       "        text-align: right;\n",
       "    }\n",
       "</style>\n",
       "<table border=\"1\" class=\"dataframe\">\n",
       "  <thead>\n",
       "    <tr style=\"text-align: right;\">\n",
       "      <th></th>\n",
       "      <th>count</th>\n",
       "      <th>mean</th>\n",
       "      <th>std</th>\n",
       "      <th>min</th>\n",
       "      <th>25%</th>\n",
       "      <th>50%</th>\n",
       "      <th>75%</th>\n",
       "      <th>max</th>\n",
       "    </tr>\n",
       "  </thead>\n",
       "  <tbody>\n",
       "    <tr>\n",
       "      <th>LV ActivePower (kW)</th>\n",
       "      <td>50530.0</td>\n",
       "      <td>1307.684332</td>\n",
       "      <td>1312.459242</td>\n",
       "      <td>-2.471405</td>\n",
       "      <td>50.677890</td>\n",
       "      <td>825.838074</td>\n",
       "      <td>2482.507568</td>\n",
       "      <td>3618.732910</td>\n",
       "    </tr>\n",
       "    <tr>\n",
       "      <th>Wind Speed (m/s)</th>\n",
       "      <td>50530.0</td>\n",
       "      <td>7.557952</td>\n",
       "      <td>4.227166</td>\n",
       "      <td>0.000000</td>\n",
       "      <td>4.201395</td>\n",
       "      <td>7.104594</td>\n",
       "      <td>10.300020</td>\n",
       "      <td>25.206011</td>\n",
       "    </tr>\n",
       "    <tr>\n",
       "      <th>Theoretical_Power_Curve (KWh)</th>\n",
       "      <td>50530.0</td>\n",
       "      <td>1492.175463</td>\n",
       "      <td>1368.018238</td>\n",
       "      <td>0.000000</td>\n",
       "      <td>161.328167</td>\n",
       "      <td>1063.776283</td>\n",
       "      <td>2964.972462</td>\n",
       "      <td>3600.000000</td>\n",
       "    </tr>\n",
       "    <tr>\n",
       "      <th>Wind Direction (°)</th>\n",
       "      <td>50530.0</td>\n",
       "      <td>123.687559</td>\n",
       "      <td>93.443736</td>\n",
       "      <td>0.000000</td>\n",
       "      <td>49.315437</td>\n",
       "      <td>73.712978</td>\n",
       "      <td>201.696720</td>\n",
       "      <td>359.997589</td>\n",
       "    </tr>\n",
       "  </tbody>\n",
       "</table>\n",
       "</div>"
      ],
      "text/plain": [
       "                                 count         mean          std       min  \\\n",
       "LV ActivePower (kW)            50530.0  1307.684332  1312.459242 -2.471405   \n",
       "Wind Speed (m/s)               50530.0     7.557952     4.227166  0.000000   \n",
       "Theoretical_Power_Curve (KWh)  50530.0  1492.175463  1368.018238  0.000000   \n",
       "Wind Direction (°)             50530.0   123.687559    93.443736  0.000000   \n",
       "\n",
       "                                      25%          50%          75%  \\\n",
       "LV ActivePower (kW)             50.677890   825.838074  2482.507568   \n",
       "Wind Speed (m/s)                 4.201395     7.104594    10.300020   \n",
       "Theoretical_Power_Curve (KWh)  161.328167  1063.776283  2964.972462   \n",
       "Wind Direction (°)              49.315437    73.712978   201.696720   \n",
       "\n",
       "                                       max  \n",
       "LV ActivePower (kW)            3618.732910  \n",
       "Wind Speed (m/s)                 25.206011  \n",
       "Theoretical_Power_Curve (KWh)  3600.000000  \n",
       "Wind Direction (°)              359.997589  "
      ]
     },
     "execution_count": 5,
     "metadata": {},
     "output_type": "execute_result"
    }
   ],
   "source": [
    "df.describe().T"
   ]
  },
  {
   "cell_type": "code",
   "execution_count": 6,
   "id": "41bf612c",
   "metadata": {},
   "outputs": [
    {
     "data": {
      "text/plain": [
       "<bound method NDFrame._add_numeric_operations.<locals>.any of        Date/Time  LV ActivePower (kW)  Wind Speed (m/s)  \\\n",
       "0          False                False             False   \n",
       "1          False                False             False   \n",
       "2          False                False             False   \n",
       "3          False                False             False   \n",
       "4          False                False             False   \n",
       "...          ...                  ...               ...   \n",
       "50525      False                False             False   \n",
       "50526      False                False             False   \n",
       "50527      False                False             False   \n",
       "50528      False                False             False   \n",
       "50529      False                False             False   \n",
       "\n",
       "       Theoretical_Power_Curve (KWh)  Wind Direction (°)  \n",
       "0                              False               False  \n",
       "1                              False               False  \n",
       "2                              False               False  \n",
       "3                              False               False  \n",
       "4                              False               False  \n",
       "...                              ...                 ...  \n",
       "50525                          False               False  \n",
       "50526                          False               False  \n",
       "50527                          False               False  \n",
       "50528                          False               False  \n",
       "50529                          False               False  \n",
       "\n",
       "[50530 rows x 5 columns]>"
      ]
     },
     "execution_count": 6,
     "metadata": {},
     "output_type": "execute_result"
    }
   ],
   "source": [
    "df.isna().any"
   ]
  },
  {
   "cell_type": "markdown",
   "id": "3affc972",
   "metadata": {},
   "source": [
    "--Splitting the Data"
   ]
  },
  {
   "cell_type": "code",
   "execution_count": 7,
   "id": "43470ec9",
   "metadata": {},
   "outputs": [],
   "source": [
    "x=df[['Wind Speed (m/s)','Wind Direction (°)']]\n",
    "y = df['LV ActivePower (kW)']"
   ]
  },
  {
   "cell_type": "code",
   "execution_count": 8,
   "id": "9488d618",
   "metadata": {},
   "outputs": [
    {
     "data": {
      "text/plain": [
       "<bound method NDFrame.head of        Wind Speed (m/s)  Wind Direction (°)\n",
       "0              5.311336          259.994904\n",
       "1              5.672167          268.641113\n",
       "2              5.216037          272.564789\n",
       "3              5.659674          271.258087\n",
       "4              5.577941          265.674286\n",
       "...                 ...                 ...\n",
       "50525         11.404030           80.502724\n",
       "50526          7.332648           84.062599\n",
       "50527          8.435358           84.742500\n",
       "50528          9.421366           84.297913\n",
       "50529          9.979332           82.274620\n",
       "\n",
       "[50530 rows x 2 columns]>"
      ]
     },
     "execution_count": 8,
     "metadata": {},
     "output_type": "execute_result"
    }
   ],
   "source": [
    "x.head"
   ]
  },
  {
   "cell_type": "code",
   "execution_count": 9,
   "id": "06823634",
   "metadata": {},
   "outputs": [
    {
     "data": {
      "text/plain": [
       "<bound method NDFrame.head of 0         380.047791\n",
       "1         453.769196\n",
       "2         306.376587\n",
       "3         419.645905\n",
       "4         380.650696\n",
       "            ...     \n",
       "50525    2963.980957\n",
       "50526    1684.353027\n",
       "50527    2201.106934\n",
       "50528    2515.694092\n",
       "50529    2820.466064\n",
       "Name: LV ActivePower (kW), Length: 50530, dtype: float64>"
      ]
     },
     "execution_count": 9,
     "metadata": {},
     "output_type": "execute_result"
    }
   ],
   "source": [
    "y.head"
   ]
  },
  {
   "cell_type": "code",
   "execution_count": 10,
   "id": "f398eb79",
   "metadata": {},
   "outputs": [],
   "source": [
    "x_train, x_test,y_train, y_test = train_test_split(x,y ,random_state=104,test_size=0.25)"
   ]
  },
  {
   "cell_type": "code",
   "execution_count": 11,
   "id": "cc7a1cda",
   "metadata": {},
   "outputs": [
    {
     "data": {
      "text/plain": [
       "28504      49.185532\n",
       "41746    3603.016113\n",
       "29608     607.884216\n",
       "27937     777.071228\n",
       "44653    1607.969971\n",
       "            ...     \n",
       "31240    3599.718994\n",
       "40664     142.976593\n",
       "39078    2192.166992\n",
       "49881       0.000000\n",
       "8261     3603.206055\n",
       "Name: LV ActivePower (kW), Length: 37897, dtype: float64"
      ]
     },
     "execution_count": 11,
     "metadata": {},
     "output_type": "execute_result"
    }
   ],
   "source": [
    "y_train"
   ]
  },
  {
   "cell_type": "markdown",
   "id": "6d864cab",
   "metadata": {},
   "source": [
    "--Checking the Metrix"
   ]
  },
  {
   "cell_type": "code",
   "execution_count": 12,
   "id": "b7103fcb",
   "metadata": {},
   "outputs": [
    {
     "name": "stdout",
     "output_type": "stream",
     "text": [
      "R2-svm 0.003210488886992935\n",
      "RMSE-svm 1302.12133034028\n"
     ]
    }
   ],
   "source": [
    "sm=SVR()\n",
    "model_sm=sm.fit(x_train,y_train)\n",
    "y_sm=model_sm.predict(x_test)\n",
    "print('R2-svm',r2_score(y_test,y_sm))\n",
    "print('RMSE-svm',np.sqrt(mean_squared_error(y_test,y_sm)))"
   ]
  },
  {
   "cell_type": "code",
   "execution_count": 13,
   "id": "08aac9f4",
   "metadata": {},
   "outputs": [
    {
     "name": "stdout",
     "output_type": "stream",
     "text": [
      "R2-xgb 0.9143962322036632\n",
      "RMSE-xgb 381.5892783561758\n"
     ]
    }
   ],
   "source": [
    "xgr=XGBRegressor()\n",
    "model_xgr=xgr.fit(x_train,y_train)\n",
    "y_xgr=model_xgr.predict(x_test)\n",
    "print('R2-xgb',r2_score(y_test,y_xgr))\n",
    "print('RMSE-xgb',np.sqrt(mean_squared_error(y_test,y_xgr)))"
   ]
  },
  {
   "cell_type": "code",
   "execution_count": 14,
   "id": "8480bfb8",
   "metadata": {},
   "outputs": [
    {
     "name": "stdout",
     "output_type": "stream",
     "text": [
      "R2-lr 0.8320590517273709\n",
      "RMSE-lr 534.4757730194342\n"
     ]
    }
   ],
   "source": [
    "lnr=LinearRegression()\n",
    "model_lnr=lnr.fit(x_train,y_train)\n",
    "y_lnr=model_lnr.predict(x_test)\n",
    "print('R2-lr',r2_score(y_test,y_lnr))\n",
    "print('RMSE-lr',np.sqrt(mean_squared_error(y_test,y_lnr)))"
   ]
  },
  {
   "cell_type": "code",
   "execution_count": 15,
   "id": "7818cac2",
   "metadata": {},
   "outputs": [
    {
     "name": "stdout",
     "output_type": "stream",
     "text": [
      "R2-rf 0.9060224494955879\n",
      "RMSE-rf 399.8174860269534\n"
     ]
    }
   ],
   "source": [
    "rdfr=RandomForestRegressor()\n",
    "model_rdfr=rdfr.fit(x_train,y_train)\n",
    "y_rdfr=model_rdfr.predict(x_test)\n",
    "print('R2-rf',r2_score(y_test,y_rdfr))\n",
    "print('RMSE-rf',np.sqrt(mean_squared_error(y_test,y_rdfr)))"
   ]
  },
  {
   "cell_type": "code",
   "execution_count": 16,
   "id": "5c0b170f",
   "metadata": {},
   "outputs": [
    {
     "name": "stdout",
     "output_type": "stream",
     "text": [
      "R2-dt 0.8356433160601979\n",
      "RMSE-dt 528.7415121144388\n"
     ]
    }
   ],
   "source": [
    "dtr=DecisionTreeRegressor()\n",
    "model_dtr=dtr.fit(x_train,y_train)\n",
    "y_dtr=model_dtr.predict(x_test)\n",
    "print('R2-dt',r2_score(y_test,y_dtr))\n",
    "print('RMSE-dt',np.sqrt(mean_squared_error(y_test,y_dtr)))"
   ]
  },
  {
   "cell_type": "markdown",
   "id": "1962a36a",
   "metadata": {},
   "source": [
    "--Hyper parameter Tuning"
   ]
  },
  {
   "cell_type": "code",
   "execution_count": 17,
   "id": "c88090e3",
   "metadata": {},
   "outputs": [],
   "source": [
    "params={\n",
    " \"learning_rate\"    : [0.05, 0.01,0.03,0.1, 0.15, 0.2] ,\n",
    " \"n_estimators\"     : [50, 100, 150, 200, 500, 800,1000,1500] ,\n",
    " \"max_depth\"        : [ 3, 4, 5, 6, 8, 10, 12, 15,20,25],\n",
    " \"min_child_weight\" : [ 1, 3, 5, 7 ,10,15,20,25],\n",
    " \"gamma\"            : [ 0.0, 0.1, 0.2 , 0.3, 0.4 ],\n",
    " \"subsample\"        : [ 0.1, 0.2 , 0.3, 0.4,0.6,0.8,1 ],\n",
    " \"reg_lambda\"       : [ 0.0, 0.1, 0.2 , 0.3, 0.4 ,0.6,0.8,1],\n",
    " \"reg_alpha\"        : [ 0.0, 0.1, 0.2 , 0.3, 0.4 ],\n",
    " \"colsample_bytree\" : [ 0.3, 0.4, 0.5 , 0.7,0.9 ],\n",
    " \"colsample_bylevel\" : [ 0.3, 0.4, 0.5 , 0.7,0.9 ]\n",
    "}"
   ]
  },
  {
   "cell_type": "code",
   "execution_count": 18,
   "id": "49f8c274",
   "metadata": {},
   "outputs": [],
   "source": [
    "def timer(start_time=None):\n",
    "    if not start_time:\n",
    "        start_time = datetime.now()\n",
    "        return start_time\n",
    "    elif start_time:\n",
    "        thour, temp_sec = divmod((datetime.now() - start_time).total_seconds(), 3600)\n",
    "        tmin, tsec = divmod(temp_sec, 60)\n",
    "        print('\\n The Time taken is : %i hours %i minutes and %s seconds.' % (thour, tmin, round(tsec, 2)))"
   ]
  },
  {
   "cell_type": "code",
   "execution_count": 19,
   "id": "6679633f",
   "metadata": {},
   "outputs": [],
   "source": [
    "random_search=RandomizedSearchCV(xgr,param_distributions=params,n_iter=10,n_jobs=-1,cv=5,verbose=3)\n",
    "start_time = timer(None)\n"
   ]
  },
  {
   "cell_type": "code",
   "execution_count": 33,
   "id": "b1910c82",
   "metadata": {},
   "outputs": [
    {
     "name": "stdout",
     "output_type": "stream",
     "text": [
      "Fitting 5 folds for each of 10 candidates, totalling 50 fits\n"
     ]
    },
    {
     "data": {
      "text/plain": [
       "RandomizedSearchCV(cv=5,\n",
       "                   estimator=XGBRegressor(base_score=0.5, booster='gbtree',\n",
       "                                          callbacks=None, colsample_bylevel=1,\n",
       "                                          colsample_bynode=1,\n",
       "                                          colsample_bytree=1,\n",
       "                                          early_stopping_rounds=None,\n",
       "                                          enable_categorical=False,\n",
       "                                          eval_metric=None, feature_types=None,\n",
       "                                          gamma=0, gpu_id=-1,\n",
       "                                          grow_policy='depthwise',\n",
       "                                          importance_type=None,\n",
       "                                          interaction_constraints='',\n",
       "                                          learning_rate=0.3000...\n",
       "                                        'colsample_bytree': [0.3, 0.4, 0.5, 0.7,\n",
       "                                                             0.9],\n",
       "                                        'gamma': [0.0, 0.1, 0.2, 0.3, 0.4],\n",
       "                                        'learning_rate': [0.05, 0.01, 0.03, 0.1,\n",
       "                                                          0.15, 0.2],\n",
       "                                        'max_depth': [3, 4, 5, 6, 8, 10, 12, 15,\n",
       "                                                      20, 25],\n",
       "                                        'min_child_weight': [1, 3, 5, 7, 10, 15,\n",
       "                                                             20, 25],\n",
       "                                        'n_estimators': [50, 100, 150, 200, 500,\n",
       "                                                         800, 1000, 1500],\n",
       "                                        'reg_alpha': [0.0, 0.1, 0.2, 0.3, 0.4],\n",
       "                                        'reg_lambda': [0.0, 0.1, 0.2, 0.3, 0.4,\n",
       "                                                       0.6, 0.8, 1],\n",
       "                                        'subsample': [0.1, 0.2, 0.3, 0.4, 0.6,\n",
       "                                                      0.8, 1]},\n",
       "                   verbose=3)"
      ]
     },
     "execution_count": 33,
     "metadata": {},
     "output_type": "execute_result"
    }
   ],
   "source": [
    "random_search.fit(x_train,y_train)"
   ]
  },
  {
   "cell_type": "code",
   "execution_count": 34,
   "id": "c51644d5",
   "metadata": {},
   "outputs": [
    {
     "name": "stdout",
     "output_type": "stream",
     "text": [
      "\n",
      " The Time taken is : 0 hours 24 minutes and 10.17 seconds.\n"
     ]
    }
   ],
   "source": [
    "timer(start_time)"
   ]
  },
  {
   "cell_type": "code",
   "execution_count": 35,
   "id": "743620d3",
   "metadata": {},
   "outputs": [
    {
     "data": {
      "text/plain": [
       "XGBRegressor(base_score=0.5, booster='gbtree', callbacks=None,\n",
       "             colsample_bylevel=0.5, colsample_bynode=1, colsample_bytree=0.4,\n",
       "             early_stopping_rounds=None, enable_categorical=False,\n",
       "             eval_metric=None, feature_types=None, gamma=0.0, gpu_id=-1,\n",
       "             grow_policy='depthwise', importance_type=None,\n",
       "             interaction_constraints='', learning_rate=0.05, max_bin=256,\n",
       "             max_cat_threshold=64, max_cat_to_onehot=4, max_delta_step=0,\n",
       "             max_depth=4, max_leaves=0, min_child_weight=25, missing=nan,\n",
       "             monotone_constraints='()', n_estimators=200, n_jobs=0,\n",
       "             num_parallel_tree=1, predictor='auto', random_state=0, ...)"
      ]
     },
     "execution_count": 35,
     "metadata": {},
     "output_type": "execute_result"
    }
   ],
   "source": [
    "random_search.best_estimator_"
   ]
  },
  {
   "cell_type": "code",
   "execution_count": 36,
   "id": "e0685b2d",
   "metadata": {},
   "outputs": [],
   "source": [
    "xgr=XGBRegressor(colsample_bylevel=0.4, colsample_bytree=0.3, gamma=0.1,\n",
    "             learning_rate=0.01, max_depth=6, min_child_weight=25,\n",
    "             n_estimators=1500, reg_alpha=0.1, reg_lambda=0.8, subsample=0.6)"
   ]
  },
  {
   "cell_type": "code",
   "execution_count": 37,
   "id": "4cdb3228",
   "metadata": {},
   "outputs": [],
   "source": [
    "x=xgr.fit(x_train,y_train)"
   ]
  },
  {
   "cell_type": "code",
   "execution_count": 38,
   "id": "25e498f0",
   "metadata": {},
   "outputs": [],
   "source": [
    "yval=x.predict(x_test)"
   ]
  },
  {
   "cell_type": "code",
   "execution_count": 39,
   "id": "e6105f88",
   "metadata": {},
   "outputs": [
    {
     "data": {
      "text/plain": [
       "0.9118739462184973"
      ]
     },
     "execution_count": 39,
     "metadata": {},
     "output_type": "execute_result"
    }
   ],
   "source": [
    "r2_score(y_test,yval)"
   ]
  },
  {
   "cell_type": "code",
   "execution_count": 40,
   "id": "bbbae0f6",
   "metadata": {},
   "outputs": [],
   "source": [
    "xgr=XGBRegressor(base_score=0.5, booster='gbtree', colsample_bylevel=0.7,colsample_bynode=1, colsample_bytree=0.3, gamma=0.2,importance_type='gain', learning_rate=0.03, max_delta_step=0,max_depth=8, min_child_weight=25, missing=None, n_estimators=800,n_jobs=1, nthread=None, objective='reg:linear', random_state=0,reg_alpha=0.2, reg_lambda=0.8, scale_pos_weight=1, seed=None,silent=None, subsample=0.1, verbosity=1)"
   ]
  },
  {
   "cell_type": "code",
   "execution_count": 41,
   "id": "3ce82796",
   "metadata": {},
   "outputs": [],
   "source": [
    "sm=SVR(gamma='auto',C=50,epsilon=0.3)"
   ]
  },
  {
   "cell_type": "code",
   "execution_count": 42,
   "id": "f48719ca",
   "metadata": {},
   "outputs": [],
   "source": [
    "rfr=RandomForestRegressor(n_estimators=500,max_depth=4)"
   ]
  },
  {
   "cell_type": "code",
   "execution_count": 43,
   "id": "f81d77c2",
   "metadata": {},
   "outputs": [],
   "source": [
    "lnr=LinearRegression()"
   ]
  },
  {
   "cell_type": "code",
   "execution_count": 44,
   "id": "94a4f464",
   "metadata": {},
   "outputs": [],
   "source": [
    "model=VotingRegressor([('lnr',lnr), ('rfr',rfr),('sm', sm),('xgr',xgr)],weights=[1,1,2,3])"
   ]
  },
  {
   "cell_type": "code",
   "execution_count": null,
   "id": "f4b92cb3",
   "metadata": {},
   "outputs": [],
   "source": [
    "Model=model.fit(x_train, y_train)"
   ]
  }
 ],
 "metadata": {
  "kernelspec": {
   "display_name": "Python 3 (ipykernel)",
   "language": "python",
   "name": "python3"
  },
  "language_info": {
   "codemirror_mode": {
    "name": "ipython",
    "version": 3
   },
   "file_extension": ".py",
   "mimetype": "text/x-python",
   "name": "python",
   "nbconvert_exporter": "python",
   "pygments_lexer": "ipython3",
   "version": "3.9.12"
  }
 },
 "nbformat": 4,
 "nbformat_minor": 5
}
